{
 "cells": [
  {
   "cell_type": "code",
   "execution_count": 4,
   "id": "7577119a-b681-449d-a823-40ac1e18fab9",
   "metadata": {},
   "outputs": [],
   "source": [
    "#For Loop"
   ]
  },
  {
   "cell_type": "code",
   "execution_count": 5,
   "id": "e9200810-3171-4adb-9155-d04bde0653cd",
   "metadata": {},
   "outputs": [],
   "source": [
    "poro = (0.4,0.3,0.6,0.21,.11,.01)"
   ]
  },
  {
   "cell_type": "code",
   "execution_count": 6,
   "id": "342a24ce-a46f-4402-aca7-25e554ecfcee",
   "metadata": {},
   "outputs": [
    {
     "name": "stdout",
     "output_type": "stream",
     "text": [
      "0.4\n",
      "0.3\n",
      "0.6\n",
      "0.21\n",
      "0.11\n",
      "0.01\n"
     ]
    }
   ],
   "source": [
    "for i in poro:\n",
    "    print(i)"
   ]
  },
  {
   "cell_type": "code",
   "execution_count": 7,
   "id": "d29af5c0-556b-4ef2-9bc3-7a290eef2b3b",
   "metadata": {},
   "outputs": [
    {
     "name": "stdout",
     "output_type": "stream",
     "text": [
      "0.4\n",
      "0.3\n",
      "0.6\n"
     ]
    }
   ],
   "source": [
    "for i in poro[:3]:\n",
    "    print(i)"
   ]
  },
  {
   "cell_type": "code",
   "execution_count": 8,
   "id": "23546742-168e-42eb-b965-c57d8c1ef9e8",
   "metadata": {},
   "outputs": [
    {
     "data": {
      "text/plain": [
       "range(0, 5)"
      ]
     },
     "execution_count": 8,
     "metadata": {},
     "output_type": "execute_result"
    }
   ],
   "source": [
    "range(5)"
   ]
  },
  {
   "cell_type": "code",
   "execution_count": 9,
   "id": "c52fb145-fe71-4f73-aea4-2233712521e0",
   "metadata": {},
   "outputs": [
    {
     "name": "stdout",
     "output_type": "stream",
     "text": [
      "<class 'range'>\n"
     ]
    }
   ],
   "source": [
    "print(range)"
   ]
  },
  {
   "cell_type": "code",
   "execution_count": 10,
   "id": "4e8bb34c-ebb4-4ae7-aea6-0836f0f59add",
   "metadata": {},
   "outputs": [
    {
     "data": {
      "text/plain": [
       "type"
      ]
     },
     "execution_count": 10,
     "metadata": {},
     "output_type": "execute_result"
    }
   ],
   "source": [
    "type(range)"
   ]
  },
  {
   "cell_type": "code",
   "execution_count": 11,
   "id": "eb1988e4-15ec-459c-ab6e-c3062eceb64b",
   "metadata": {},
   "outputs": [
    {
     "ename": "SyntaxError",
     "evalue": "invalid syntax (3994122837.py, line 1)",
     "output_type": "error",
     "traceback": [
      "\u001b[1;36m  Cell \u001b[1;32mIn[11], line 1\u001b[1;36m\u001b[0m\n\u001b[1;33m    for i in range(len(poro):\u001b[0m\n\u001b[1;37m                            ^\u001b[0m\n\u001b[1;31mSyntaxError\u001b[0m\u001b[1;31m:\u001b[0m invalid syntax\n"
     ]
    }
   ],
   "source": [
    "for i in range(len(poro):\n",
    "    print(poro(i))"
   ]
  },
  {
   "cell_type": "code",
   "execution_count": null,
   "id": "a37f6fbd-7ede-49ca-944f-ea981cf7fb21",
   "metadata": {},
   "outputs": [],
   "source": [
    "specific_gravity = [0.2,0.3,0.12,0.45,0.65,0.8,0.923]"
   ]
  },
  {
   "cell_type": "code",
   "execution_count": null,
   "id": "80f10fab-449e-4b3a-b31f-03ce8670f458",
   "metadata": {},
   "outputs": [],
   "source": [
    "API = []"
   ]
  },
  {
   "cell_type": "code",
   "execution_count": null,
   "id": "23940eed-eaf6-4cca-9443-1886cbe4173e",
   "metadata": {},
   "outputs": [],
   "source": [
    "for i in specific_gravity:\n",
    "    api = (141.5/i) - 131.5\n",
    "    API.append(api)\n",
    "    print(f\"API Gravity of crude oil corresponding to specific gravity of {i} is {api}\")\n",
    "    \n",
    "print(f\"List for API gravities is {API}\")"
   ]
  },
  {
   "cell_type": "code",
   "execution_count": null,
   "id": "23858c82-10b8-4797-9828-6557fd647ed1",
   "metadata": {},
   "outputs": [],
   "source": [
    "perm = [23,32,12,43,65,34,23]"
   ]
  },
  {
   "cell_type": "code",
   "execution_count": null,
   "id": "67dd0a1f-c571-4b71-9233-78706ffc8e56",
   "metadata": {},
   "outputs": [],
   "source": [
    "print(perm)"
   ]
  },
  {
   "cell_type": "code",
   "execution_count": null,
   "id": "c6c0177e-3b56-463f-b84d-f39b7ef2634f",
   "metadata": {},
   "outputs": [],
   "source": [
    "specific_gravity = [0.2,0.3,0.12,0.45,0.65,0.8,0.923]"
   ]
  },
  {
   "cell_type": "code",
   "execution_count": null,
   "id": "478df7f3-e44c-48b1-8f96-5a0b7950dd3b",
   "metadata": {},
   "outputs": [],
   "source": [
    "print(specific_gravity)"
   ]
  },
  {
   "cell_type": "code",
   "execution_count": null,
   "id": "c8d34581-efe9-4f23-80bc-d523ddbd435a",
   "metadata": {},
   "outputs": [],
   "source": [
    "field_names = [\"Ankleshwar\", \"Cambay\", \"Kalol\", \"Kosamba\", \"Mehsana\", \"Nogwa\", \"Dholka\"]"
   ]
  },
  {
   "cell_type": "code",
   "execution_count": null,
   "id": "fe0d1dbd-46e3-4ca4-8d93-ac2372749139",
   "metadata": {},
   "outputs": [],
   "source": [
    "print(field_names)"
   ]
  },
  {
   "cell_type": "markdown",
   "id": "e46c83eb-a8dd-424e-8f24-5bc1fb557074",
   "metadata": {},
   "source": [
    "ZIP"
   ]
  },
  {
   "cell_type": "code",
   "execution_count": null,
   "id": "486a62ee-e66e-4799-8248-13742afbc973",
   "metadata": {},
   "outputs": [],
   "source": [
    "list(zip(field_names,perm,specific_gravity))"
   ]
  },
  {
   "cell_type": "code",
   "execution_count": null,
   "id": "c1351d1c-0452-4f14-bed8-11b66b19861e",
   "metadata": {},
   "outputs": [],
   "source": [
    "for i,j,k in zip(field_names,perm,specific_gravity):\n",
    "        print(f\"The permeability of {i} field is {j} md and the specific gravity of the crude is {k}\")\n",
    "    "
   ]
  },
  {
   "cell_type": "code",
   "execution_count": null,
   "id": "cf45a764-b4d8-4eeb-b53e-8d9d716bdaaf",
   "metadata": {},
   "outputs": [],
   "source": [
    "field_properties ={}\n",
    "for i,j,k in zip(field_names,perm,specific_gravity):\n",
    "    field_properties[i]:{\"Permeability\":j,\"Specific Gravity\":k}"
   ]
  },
  {
   "cell_type": "code",
   "execution_count": 19,
   "id": "027d5212-4460-4f0e-99f1-cb9502f6585e",
   "metadata": {},
   "outputs": [],
   "source": [
    "specific_gravity = [0.2,0.3,0.12,0.45,0.65,0.8,0.923]"
   ]
  },
  {
   "cell_type": "code",
   "execution_count": 21,
   "id": "1387c488-ca79-4916-b793-02643ef8e89d",
   "metadata": {},
   "outputs": [
    {
     "data": {
      "text/plain": [
       "[0.2, 0.3, 0.12, 0.45, 0.65, 0.8, 0.923]"
      ]
     },
     "execution_count": 21,
     "metadata": {},
     "output_type": "execute_result"
    }
   ],
   "source": [
    "specific_gravity"
   ]
  },
  {
   "cell_type": "code",
   "execution_count": 23,
   "id": "ab548bae-e048-47d6-aa5d-b78ff36c3936",
   "metadata": {},
   "outputs": [],
   "source": [
    "perm = [23,32,12,43,65,34,23]"
   ]
  },
  {
   "cell_type": "code",
   "execution_count": 25,
   "id": "c75b82a1-31a6-4e78-8aa0-3d0675d8dcdb",
   "metadata": {},
   "outputs": [
    {
     "data": {
      "text/plain": [
       "[23, 32, 12, 43, 65, 34, 23]"
      ]
     },
     "execution_count": 25,
     "metadata": {},
     "output_type": "execute_result"
    }
   ],
   "source": [
    "perm"
   ]
  },
  {
   "cell_type": "code",
   "execution_count": 27,
   "id": "13d8dd16-f9dd-4cbe-983a-4b1f8607482f",
   "metadata": {},
   "outputs": [],
   "source": [
    "field_names = [\"Ankleshwar\", \"Cambay\", \"Kalol\", \"Kosamba\", \"Mehsana\", \"Nogwa\", \"Dholka\"]"
   ]
  },
  {
   "cell_type": "code",
   "execution_count": 29,
   "id": "89133bd3-592d-45d1-8580-b47f8d45cf7f",
   "metadata": {},
   "outputs": [
    {
     "data": {
      "text/plain": [
       "['Ankleshwar', 'Cambay', 'Kalol', 'Kosamba', 'Mehsana', 'Nogwa', 'Dholka']"
      ]
     },
     "execution_count": 29,
     "metadata": {},
     "output_type": "execute_result"
    }
   ],
   "source": [
    "field_names"
   ]
  },
  {
   "cell_type": "code",
   "execution_count": 31,
   "id": "9afb3b0f-3d23-46ce-a2f3-2841567adb8e",
   "metadata": {},
   "outputs": [],
   "source": [
    "# The permeability of ankleshwar field is 23 md, and specific gravity of crude present there is 0.2."
   ]
  },
  {
   "cell_type": "code",
   "execution_count": 33,
   "id": "fd91092b-b730-4d35-b521-b03078d7c3a2",
   "metadata": {},
   "outputs": [
    {
     "data": {
      "text/plain": [
       "[('Ankleshwar', 23, 0.2),\n",
       " ('Cambay', 32, 0.3),\n",
       " ('Kalol', 12, 0.12),\n",
       " ('Kosamba', 43, 0.45),\n",
       " ('Mehsana', 65, 0.65),\n",
       " ('Nogwa', 34, 0.8),\n",
       " ('Dholka', 23, 0.923)]"
      ]
     },
     "execution_count": 33,
     "metadata": {},
     "output_type": "execute_result"
    }
   ],
   "source": [
    "list(zip(field_names,perm,specific_gravity))"
   ]
  },
  {
   "cell_type": "code",
   "execution_count": 35,
   "id": "1c9ccaff-5473-4a15-8694-dfe039fe343d",
   "metadata": {},
   "outputs": [
    {
     "name": "stdout",
     "output_type": "stream",
     "text": [
      "The permeability of Ankleshwar field is 23 md and specific gravity of crude present there is 0.2!!!\n",
      "The permeability of Cambay field is 32 md and specific gravity of crude present there is 0.3!!!\n",
      "The permeability of Kalol field is 12 md and specific gravity of crude present there is 0.12!!!\n",
      "The permeability of Kosamba field is 43 md and specific gravity of crude present there is 0.45!!!\n",
      "The permeability of Mehsana field is 65 md and specific gravity of crude present there is 0.65!!!\n",
      "The permeability of Nogwa field is 34 md and specific gravity of crude present there is 0.8!!!\n",
      "The permeability of Dholka field is 23 md and specific gravity of crude present there is 0.923!!!\n"
     ]
    }
   ],
   "source": [
    "for i, j, k in zip(field_names, perm, specific_gravity):\n",
    "    print(f\"The permeability of {i} field is {j} md and specific gravity of crude present there is {k}!!!\")"
   ]
  },
  {
   "cell_type": "code",
   "execution_count": 37,
   "id": "c8e14016-ef09-44a6-8a2e-cd5410622660",
   "metadata": {},
   "outputs": [
    {
     "data": {
      "text/plain": [
       "[23, 32, 12, 43, 65, 34, 23]"
      ]
     },
     "execution_count": 37,
     "metadata": {},
     "output_type": "execute_result"
    }
   ],
   "source": [
    "perm"
   ]
  },
  {
   "cell_type": "code",
   "execution_count": 39,
   "id": "d855d329-97ac-4732-be71-35d40e91b6a3",
   "metadata": {},
   "outputs": [
    {
     "data": {
      "text/plain": [
       "[0.2, 0.3, 0.12, 0.45, 0.65, 0.8, 0.923]"
      ]
     },
     "execution_count": 39,
     "metadata": {},
     "output_type": "execute_result"
    }
   ],
   "source": [
    "specific_gravity"
   ]
  },
  {
   "cell_type": "code",
   "execution_count": 41,
   "id": "d96cb8c2-5a1d-4570-aac8-24a155cf8ad8",
   "metadata": {},
   "outputs": [
    {
     "data": {
      "text/plain": [
       "['Ankleshwar', 'Cambay', 'Kalol', 'Kosamba', 'Mehsana', 'Nogwa', 'Dholka']"
      ]
     },
     "execution_count": 41,
     "metadata": {},
     "output_type": "execute_result"
    }
   ],
   "source": [
    "field_names"
   ]
  },
  {
   "cell_type": "code",
   "execution_count": 43,
   "id": "348d78e7-bc42-4943-a8ed-d37155423019",
   "metadata": {},
   "outputs": [
    {
     "data": {
      "text/plain": [
       "[23, 32, 12, 43, 65, 34, 23]"
      ]
     },
     "execution_count": 43,
     "metadata": {},
     "output_type": "execute_result"
    }
   ],
   "source": [
    "perm"
   ]
  },
  {
   "cell_type": "code",
   "execution_count": 47,
   "id": "1a4d7640-54ef-4fb7-9e57-4b489e216fb5",
   "metadata": {},
   "outputs": [],
   "source": [
    "field_properties = {}\n",
    "for i, j, k in zip(field_names, perm, specific_gravity):\n",
    "    field_properties[i] = {\"Permeability\":j,\"Specific Gravity\":k}\n",
    "    "
   ]
  },
  {
   "cell_type": "code",
   "execution_count": 49,
   "id": "28f8e523-f276-4ad4-8e64-d9da5fc00d92",
   "metadata": {},
   "outputs": [
    {
     "data": {
      "text/plain": [
       "{'Ankleshwar': {'Permeability': 23, 'Specific Gravity': 0.2},\n",
       " 'Cambay': {'Permeability': 32, 'Specific Gravity': 0.3},\n",
       " 'Kalol': {'Permeability': 12, 'Specific Gravity': 0.12},\n",
       " 'Kosamba': {'Permeability': 43, 'Specific Gravity': 0.45},\n",
       " 'Mehsana': {'Permeability': 65, 'Specific Gravity': 0.65},\n",
       " 'Nogwa': {'Permeability': 34, 'Specific Gravity': 0.8},\n",
       " 'Dholka': {'Permeability': 23, 'Specific Gravity': 0.923}}"
      ]
     },
     "execution_count": 49,
     "metadata": {},
     "output_type": "execute_result"
    }
   ],
   "source": [
    "field_properties"
   ]
  },
  {
   "cell_type": "code",
   "execution_count": 51,
   "id": "832a2df9-9672-4f76-9624-da92daa03454",
   "metadata": {},
   "outputs": [
    {
     "data": {
      "text/plain": [
       "{'Ankleshwar': {'Permeability': 23, 'Specific Gravity': 0.2},\n",
       " 'Cambay': {'Permeability': 32, 'Specific Gravity': 0.3},\n",
       " 'Kalol': {'Permeability': 12, 'Specific Gravity': 0.12},\n",
       " 'Kosamba': {'Permeability': 43, 'Specific Gravity': 0.45},\n",
       " 'Mehsana': {'Permeability': 65, 'Specific Gravity': 0.65},\n",
       " 'Nogwa': {'Permeability': 34, 'Specific Gravity': 0.8},\n",
       " 'Dholka': {'Permeability': 23, 'Specific Gravity': 0.923}}"
      ]
     },
     "execution_count": 51,
     "metadata": {},
     "output_type": "execute_result"
    }
   ],
   "source": [
    "field_properties"
   ]
  },
  {
   "cell_type": "code",
   "execution_count": 67,
   "id": "13874f4c-11db-44e5-8f6a-6024e3132459",
   "metadata": {},
   "outputs": [],
   "source": [
    "field_properties =[4]"
   ]
  },
  {
   "cell_type": "code",
   "execution_count": 69,
   "id": "ddc97e31-8349-4b8a-99b9-71d7cd502015",
   "metadata": {},
   "outputs": [
    {
     "data": {
      "text/plain": [
       "[4]"
      ]
     },
     "execution_count": 69,
     "metadata": {},
     "output_type": "execute_result"
    }
   ],
   "source": [
    "field_properties"
   ]
  },
  {
   "cell_type": "code",
   "execution_count": 71,
   "id": "595447d8-3ce1-4683-9779-1435a29197fb",
   "metadata": {},
   "outputs": [],
   "source": [
    "field_properties = {}\n",
    "for i, j, k in zip(field_names, perm, specific_gravity):\n",
    "    field_properties[i] = {\"Permeability\":j,\"Specific Gravity\":k}"
   ]
  },
  {
   "cell_type": "code",
   "execution_count": 73,
   "id": "6dc255c7-a7aa-483e-bf53-3a0fc247842e",
   "metadata": {},
   "outputs": [
    {
     "data": {
      "text/plain": [
       "{'Ankleshwar': {'Permeability': 23, 'Specific Gravity': 0.2},\n",
       " 'Cambay': {'Permeability': 32, 'Specific Gravity': 0.3},\n",
       " 'Kalol': {'Permeability': 12, 'Specific Gravity': 0.12},\n",
       " 'Kosamba': {'Permeability': 43, 'Specific Gravity': 0.45},\n",
       " 'Mehsana': {'Permeability': 65, 'Specific Gravity': 0.65},\n",
       " 'Nogwa': {'Permeability': 34, 'Specific Gravity': 0.8},\n",
       " 'Dholka': {'Permeability': 23, 'Specific Gravity': 0.923}}"
      ]
     },
     "execution_count": 73,
     "metadata": {},
     "output_type": "execute_result"
    }
   ],
   "source": [
    "field_properties"
   ]
  },
  {
   "cell_type": "code",
   "execution_count": 83,
   "id": "28e358ca-02a1-4624-9dd9-d12d346adbbd",
   "metadata": {},
   "outputs": [
    {
     "data": {
      "text/plain": [
       "0.65"
      ]
     },
     "execution_count": 83,
     "metadata": {},
     "output_type": "execute_result"
    }
   ],
   "source": [
    "field_properties[\"Mehsana\"][\"Specific Gravity\"]"
   ]
  },
  {
   "cell_type": "code",
   "execution_count": null,
   "id": "738c9dcb-084c-4e14-8929-4bbc117ed202",
   "metadata": {},
   "outputs": [],
   "source": []
  }
 ],
 "metadata": {
  "kernelspec": {
   "display_name": "Python 3 (ipykernel)",
   "language": "python",
   "name": "python3"
  },
  "language_info": {
   "codemirror_mode": {
    "name": "ipython",
    "version": 3
   },
   "file_extension": ".py",
   "mimetype": "text/x-python",
   "name": "python",
   "nbconvert_exporter": "python",
   "pygments_lexer": "ipython3",
   "version": "3.12.4"
  }
 },
 "nbformat": 4,
 "nbformat_minor": 5
}
