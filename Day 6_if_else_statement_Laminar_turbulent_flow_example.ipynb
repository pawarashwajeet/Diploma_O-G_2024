{
 "cells": [
  {
   "cell_type": "code",
   "execution_count": 1,
   "id": "adc853e7-30de-4549-b88e-2fa900f6fcdb",
   "metadata": {},
   "outputs": [],
   "source": [
    "## If-else statement: To run a block of code only if certain condition is True"
   ]
  },
  {
   "cell_type": "code",
   "execution_count": 9,
   "id": "982e036d-7e05-48f5-9209-2b6d429583c5",
   "metadata": {},
   "outputs": [
    {
     "name": "stdout",
     "output_type": "stream",
     "text": [
      "The above statement is false\n",
      "Else block is executed\n"
     ]
    }
   ],
   "source": [
    "if 5 < 2:\n",
    "    print(\"The above statement is True\")\n",
    "    print(\"If block is executed\")\n",
    "else:\n",
    "    print(\"The above statement is false\")\n",
    "    print(\"Else block is executed\")"
   ]
  },
  {
   "cell_type": "code",
   "execution_count": 3,
   "id": "f7559e37-8223-4387-8c4a-49764479c104",
   "metadata": {},
   "outputs": [],
   "source": [
    "## To check if the flow is laminar or turbulent in pipe."
   ]
  },
  {
   "cell_type": "code",
   "execution_count": 37,
   "id": "2b7efa5f-c672-4c6c-9061-a7c78158fa74",
   "metadata": {},
   "outputs": [
    {
     "name": "stdin",
     "output_type": "stream",
     "text": [
      "Insert the pipe diameter (m):  .101\n",
      "Insert the fluid velocity (m/s):  10\n",
      "Insert fluid density (kg/m3):  1000\n",
      "Insert the fluid viscosity(kg/m.sec):  .001\n",
      "Insert Fluid Temperature(degC):  25\n"
     ]
    },
    {
     "name": "stdout",
     "output_type": "stream",
     "text": [
      "The Reynolds number of the fluid flowing through the pipe of diameter 0.101 m is 1010000.0 at a flow temperature of 25.0 degC.\n",
      "The Reynolds number is 1010000.0, hence the flow is Turbulent and intertial forces dominate.\n",
      "The friction factor based on above flow condition is as given below:\n",
      "Since the flow is Turbulent, the Darcy-Weichbach friction factor is calculated \n",
      "The friction factor is 0.009967970388479725.\n"
     ]
    }
   ],
   "source": [
    "D_pipe = float(input(\"Insert the pipe diameter (m): \"))\n",
    "Vel_f = float(input(\"Insert the fluid velocity (m/s): \"))\n",
    "density_f = float(input(\"Insert fluid density (kg/m3): \"))\n",
    "visc_f = float(input(\"Insert the fluid viscosity(kg/m.sec): \"))\n",
    "Temp_f = float(input(\"Insert Fluid Temperature(degC): \"))\n",
    "Re = ((D_pipe*Vel_f*density_f)/visc_f)\n",
    "print(f\"The Reynolds number of the fluid flowing through the pipe of diameter {D_pipe} m is {Re} at a flow temperature of {Temp_f} degC.\")\n",
    "if Re < 2100:\n",
    "    print(f\"The Reynolds number is {Re}, hence the flow is Laminar, therefore viscous forces dominate the flow.\")\n",
    "elif 2100 < Re < 4000:\n",
    "    print(f\"The Reynolds number is {Re}, hence the flow is in Transition.\")\n",
    "else:\n",
    "    print(f\"The Reynolds number is {Re}, hence the flow is Turbulent and intertial forces dominate.\")\n",
    "\n",
    "print(\"The friction factor based on above flow condition is as given below:\")\n",
    "if Re < 2300:\n",
    "    print(\"Since the flow is Laminar, the Darcy-Weichbach friction factor is calculated.\")\n",
    "    f_lam = 64/Re\n",
    "    print(f\"The friction factor is {f_lam}.\")\n",
    "else:\n",
    "    print(\"Since the flow is Turbulent, the Darcy-Weichbach friction factor is calculated \")\n",
    "    f_trblnt = 0.316*(Re)**-0.25\n",
    "    print(f\"The friction factor is {f_trblnt}.\")\n"
   ]
  },
  {
   "cell_type": "code",
   "execution_count": null,
   "id": "0938974d-eee8-47eb-a22b-9941ee5267c8",
   "metadata": {},
   "outputs": [],
   "source": []
  }
 ],
 "metadata": {
  "kernelspec": {
   "display_name": "Python 3 (ipykernel)",
   "language": "python",
   "name": "python3"
  },
  "language_info": {
   "codemirror_mode": {
    "name": "ipython",
    "version": 3
   },
   "file_extension": ".py",
   "mimetype": "text/x-python",
   "name": "python",
   "nbconvert_exporter": "python",
   "pygments_lexer": "ipython3",
   "version": "3.12.4"
  }
 },
 "nbformat": 4,
 "nbformat_minor": 5
}
