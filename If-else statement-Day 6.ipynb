{
 "cells": [
  {
   "cell_type": "markdown",
   "id": "df0e00f9-84af-432b-a878-77afe90aab85",
   "metadata": {},
   "source": [
    "**If-Else statement: To run a block of code only if certain condition is true**"
   ]
  },
  {
   "cell_type": "code",
   "execution_count": 7,
   "id": "4b2da97f-4b64-4921-8412-47d3bdd4956a",
   "metadata": {},
   "outputs": [],
   "source": [
    "## Indentation: block of code"
   ]
  },
  {
   "cell_type": "code",
   "execution_count": 5,
   "id": "98eda32a-d15a-49ba-bc78-0b8a7ccbe66d",
   "metadata": {},
   "outputs": [
    {
     "name": "stdout",
     "output_type": "stream",
     "text": [
      "The above statement is True\n",
      "IF block executed\n",
      "This is outside the block\n"
     ]
    }
   ],
   "source": [
    "if 5 > 2:\n",
    "    print(\"The above statement is True\")\n",
    "    print(\"IF block executed\")\n",
    "else:\n",
    "    print(\"The above statement is Flase\")\n",
    "    print(\"Else block executed\")\n",
    "\n",
    "print(\"This is outside the block\")"
   ]
  },
  {
   "cell_type": "code",
   "execution_count": 9,
   "id": "b1fdf366-3421-4a7a-b324-90bb2c94f45e",
   "metadata": {},
   "outputs": [
    {
     "name": "stdout",
     "output_type": "stream",
     "text": [
      "It will always run\n"
     ]
    }
   ],
   "source": [
    "if True:\n",
    "    print(\"It will always run\")"
   ]
  },
  {
   "cell_type": "code",
   "execution_count": 11,
   "id": "64dcdfbc-8c03-4ed5-9de0-469fc1bc9098",
   "metadata": {},
   "outputs": [
    {
     "name": "stdout",
     "output_type": "stream",
     "text": [
      "always else\n"
     ]
    }
   ],
   "source": [
    "if False:\n",
    "    print(\"No need to try\")\n",
    "else:\n",
    "    print(\"always else\")"
   ]
  },
  {
   "cell_type": "code",
   "execution_count": 35,
   "id": "efe5447e-b04f-484b-b69b-c6c9c4c072d4",
   "metadata": {},
   "outputs": [
    {
     "name": "stdin",
     "output_type": "stream",
     "text": [
      "Enter the Reservoir pressure (psia):  1800\n",
      "Enter the bubble point pressure of crude (psia):  2500\n"
     ]
    },
    {
     "name": "stdout",
     "output_type": "stream",
     "text": [
      "The reservoir pressure (1800.0) psi is lower than the bubble point pressure (2500.0) of the crude.\n",
      "The reservoir is supersaturated\n",
      "The gas has evolved in the reservoir. Two phase exists\n",
      "The code has been successfully executed\n"
     ]
    }
   ],
   "source": [
    "\n",
    "Pr = (float(input(f\"Enter the Reservoir pressure (psia): \")))\n",
    "Pb = (float(input(f\"Enter the bubble point pressure of crude (psia): \")))\n",
    "if Pr > Pb:\n",
    "    print(f\"The reservoir pressure ({Pr}) psi is greater than the bubble point pressure ({Pb}) of the crude.\\nThe reservoir is undersaturated\")\n",
    "elif Pr == Pb:\n",
    "    print(f\"The reservoir pressure ({Pr}) is equal to the bubble point pressure ({Pb}). The reservoir is saturated\")\n",
    "else:\n",
    "    print(f\"The reservoir pressure ({Pr}) psi is lower than the bubble point pressure ({Pb}) of the crude.\\nThe reservoir is supersaturated\\nThe gas has evolved in the reservoir. Two phase exists\")\n",
    "print(\"The code has been successfully executed\")"
   ]
  },
  {
   "cell_type": "code",
   "execution_count": 37,
   "id": "cfb3b6de-7ad0-41c2-9177-fe3f3250a65f",
   "metadata": {},
   "outputs": [],
   "source": [
    "Pressure = [2500,3500,4300,5500,6500,1200,1000,800]"
   ]
  },
  {
   "cell_type": "code",
   "execution_count": 39,
   "id": "29edbaaf-beb4-4861-9059-8a0708485f3d",
   "metadata": {},
   "outputs": [
    {
     "data": {
      "text/plain": [
       "[2500, 3500, 4300, 5500, 6500, 1200, 1000, 800]"
      ]
     },
     "execution_count": 39,
     "metadata": {},
     "output_type": "execute_result"
    }
   ],
   "source": [
    "Pressure"
   ]
  },
  {
   "cell_type": "code",
   "execution_count": 41,
   "id": "a2d01c44-2c90-4b46-8bc9-07fb03d5e04d",
   "metadata": {},
   "outputs": [],
   "source": [
    "## Low pressure: Prssure lower than 4000 psi is low pressure\n",
    "## High Pressure: Pressures higher thank 4000 psi is high presure"
   ]
  },
  {
   "cell_type": "code",
   "execution_count": 55,
   "id": "8b5d311f-37c3-40a0-8576-bf242a9d7568",
   "metadata": {},
   "outputs": [
    {
     "name": "stdout",
     "output_type": "stream",
     "text": [
      "The pressure (2500) psia, is lower than 4000 psi.\n",
      "The pressure (3500) psia, is lower than 4000 psi.\n",
      "The pressure (4300) psia is higher than 4000 psi hence high pressure\n",
      "The pressure (5500) psia is higher than 4000 psi hence high pressure\n",
      "The pressure (6500) psia is higher than 4000 psi hence high pressure\n",
      "The pressure (1200) psia, is lower than 4000 psi.\n",
      "The pressure (1000) psia, is lower than 4000 psi.\n",
      "The pressure (800) psia, is lower than 4000 psi.\n"
     ]
    }
   ],
   "source": [
    "low_p = []\n",
    "high_p = []\n",
    "\n",
    "for i in Pressure:\n",
    "    if i < 4000:\n",
    "        print(f\"The pressure ({i}) psia, is lower than 4000 psi.\")\n",
    "        low_p.append(i)\n",
    "    else:\n",
    "       print(f\"The pressure ({i}) psia is higher than 4000 psi hence high pressure\")\n",
    "       high_p.append(i)\n",
    "    "
   ]
  },
  {
   "cell_type": "code",
   "execution_count": 57,
   "id": "3e976d7b-1d2b-478d-9b02-b3e5a26b9073",
   "metadata": {},
   "outputs": [
    {
     "data": {
      "text/plain": [
       "[2500, 3500, 1200, 1000, 800]"
      ]
     },
     "execution_count": 57,
     "metadata": {},
     "output_type": "execute_result"
    }
   ],
   "source": [
    "low_p"
   ]
  },
  {
   "cell_type": "code",
   "execution_count": 59,
   "id": "14c78d62-410b-497f-afc7-9eb7579c8eb0",
   "metadata": {},
   "outputs": [
    {
     "data": {
      "text/plain": [
       "[4300, 5500, 6500]"
      ]
     },
     "execution_count": 59,
     "metadata": {},
     "output_type": "execute_result"
    }
   ],
   "source": [
    "high_p"
   ]
  },
  {
   "cell_type": "code",
   "execution_count": 61,
   "id": "3f40598b-7422-4ef6-adba-5d0830737834",
   "metadata": {},
   "outputs": [],
   "source": [
    "## ***If Else completed.***"
   ]
  },
  {
   "cell_type": "code",
   "execution_count": null,
   "id": "db47c94e-a35b-458c-a700-b075a7a737e0",
   "metadata": {},
   "outputs": [],
   "source": []
  }
 ],
 "metadata": {
  "kernelspec": {
   "display_name": "Python 3 (ipykernel)",
   "language": "python",
   "name": "python3"
  },
  "language_info": {
   "codemirror_mode": {
    "name": "ipython",
    "version": 3
   },
   "file_extension": ".py",
   "mimetype": "text/x-python",
   "name": "python",
   "nbconvert_exporter": "python",
   "pygments_lexer": "ipython3",
   "version": "3.12.4"
  }
 },
 "nbformat": 4,
 "nbformat_minor": 5
}
