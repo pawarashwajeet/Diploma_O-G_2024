{
 "cells": [
  {
   "cell_type": "code",
   "execution_count": 1,
   "id": "cb1d0e18-8773-4ac8-b792-ec009958fddc",
   "metadata": {},
   "outputs": [],
   "source": [
    "a = [2,3,4,5,6]"
   ]
  },
  {
   "cell_type": "code",
   "execution_count": 3,
   "id": "6424cad1-9d87-407c-bc9c-82c9b4e10a35",
   "metadata": {},
   "outputs": [],
   "source": [
    "b = [2,5,8,5,3]"
   ]
  },
  {
   "cell_type": "code",
   "execution_count": 5,
   "id": "92801e74-0571-4f7c-acf9-a98b9f0516c2",
   "metadata": {},
   "outputs": [],
   "source": [
    "sol_1 = a+b"
   ]
  },
  {
   "cell_type": "code",
   "execution_count": 7,
   "id": "35531277-d3e4-4dc1-8c45-4ee84450eb95",
   "metadata": {},
   "outputs": [
    {
     "data": {
      "text/plain": [
       "[2, 3, 4, 5, 6, 2, 5, 8, 5, 3]"
      ]
     },
     "execution_count": 7,
     "metadata": {},
     "output_type": "execute_result"
    }
   ],
   "source": [
    "sol_1"
   ]
  },
  {
   "cell_type": "code",
   "execution_count": 13,
   "id": "0c953872-2aa3-4d9a-8d18-a51c9ce5762e",
   "metadata": {},
   "outputs": [],
   "source": [
    "import numpy as np"
   ]
  },
  {
   "cell_type": "code",
   "execution_count": 15,
   "id": "3888f1cc-de75-4448-bca5-e0bbd9c57d06",
   "metadata": {},
   "outputs": [],
   "source": [
    "sol_2 = np.array(a)+np.array(b)"
   ]
  },
  {
   "cell_type": "code",
   "execution_count": 17,
   "id": "571712cc-4840-404c-8969-130ec0bc2bec",
   "metadata": {},
   "outputs": [
    {
     "data": {
      "text/plain": [
       "array([ 4,  8, 12, 10,  9])"
      ]
     },
     "execution_count": 17,
     "metadata": {},
     "output_type": "execute_result"
    }
   ],
   "source": [
    "sol_2"
   ]
  },
  {
   "cell_type": "code",
   "execution_count": 19,
   "id": "4b74c9e2-2acf-4643-9aa0-545a762ddd2f",
   "metadata": {},
   "outputs": [
    {
     "ename": "TypeError",
     "evalue": "can't multiply sequence by non-int of type 'list'",
     "output_type": "error",
     "traceback": [
      "\u001b[1;31m---------------------------------------------------------------------------\u001b[0m",
      "\u001b[1;31mTypeError\u001b[0m                                 Traceback (most recent call last)",
      "Cell \u001b[1;32mIn[19], line 1\u001b[0m\n\u001b[1;32m----> 1\u001b[0m sol_3 \u001b[38;5;241m=\u001b[39m a\u001b[38;5;241m*\u001b[39mb\n",
      "\u001b[1;31mTypeError\u001b[0m: can't multiply sequence by non-int of type 'list'"
     ]
    }
   ],
   "source": [
    "sol_3 = a*b"
   ]
  },
  {
   "cell_type": "code",
   "execution_count": 21,
   "id": "8e911eb3-79f1-4edf-8f4b-41697e7b878b",
   "metadata": {},
   "outputs": [],
   "source": [
    "sol_4 = np.array(a)**np.array(b)"
   ]
  },
  {
   "cell_type": "code",
   "execution_count": 23,
   "id": "7ec2e2c1-5654-456b-9df8-a1556352e0ae",
   "metadata": {},
   "outputs": [
    {
     "data": {
      "text/plain": [
       "array([    4,   243, 65536,  3125,   216])"
      ]
     },
     "execution_count": 23,
     "metadata": {},
     "output_type": "execute_result"
    }
   ],
   "source": [
    "sol_4"
   ]
  },
  {
   "cell_type": "code",
   "execution_count": 25,
   "id": "6e315872-25b0-450b-a1a8-d36b1452abae",
   "metadata": {},
   "outputs": [],
   "source": [
    "## question 2: What is the dimesions of these arrays:\n"
   ]
  },
  {
   "cell_type": "code",
   "execution_count": 31,
   "id": "498ddd10-899f-43db-a79b-2991446c2d1c",
   "metadata": {},
   "outputs": [],
   "source": [
    "arr_a = np.array(45)"
   ]
  },
  {
   "cell_type": "code",
   "execution_count": 33,
   "id": "811cffc9-b61a-4ccb-985a-e6da5c19c8f9",
   "metadata": {},
   "outputs": [
    {
     "data": {
      "text/plain": [
       "0"
      ]
     },
     "execution_count": 33,
     "metadata": {},
     "output_type": "execute_result"
    }
   ],
   "source": [
    "arr_a.ndim"
   ]
  },
  {
   "cell_type": "code",
   "execution_count": 41,
   "id": "aaee841e-0b0a-458c-a2e2-a78d2e607c3b",
   "metadata": {},
   "outputs": [],
   "source": [
    "arr_b = np.array([42,34,45])"
   ]
  },
  {
   "cell_type": "code",
   "execution_count": 43,
   "id": "698b283d-dc4b-4321-870d-0729efb0331d",
   "metadata": {},
   "outputs": [
    {
     "data": {
      "text/plain": [
       "1"
      ]
     },
     "execution_count": 43,
     "metadata": {},
     "output_type": "execute_result"
    }
   ],
   "source": [
    "arr_b.ndim"
   ]
  },
  {
   "cell_type": "code",
   "execution_count": 51,
   "id": "9348e4cf-1103-4690-9dc0-da6fec573024",
   "metadata": {},
   "outputs": [],
   "source": [
    "arr_c = np.array([[[1,2,3],[4,5,6]],[[1,2,3],[3,4,5]]])"
   ]
  },
  {
   "cell_type": "code",
   "execution_count": 53,
   "id": "906b4196-2e4f-4e0e-83c0-e203bd055605",
   "metadata": {},
   "outputs": [
    {
     "data": {
      "text/plain": [
       "3"
      ]
     },
     "execution_count": 53,
     "metadata": {},
     "output_type": "execute_result"
    }
   ],
   "source": [
    "arr_c.ndim"
   ]
  },
  {
   "cell_type": "code",
   "execution_count": 55,
   "id": "5b644561-038f-41d4-8580-cfaebb682a79",
   "metadata": {},
   "outputs": [],
   "source": [
    "arr_d = np.array([[[[[1,2,3,4,5,6],[2,3,4,5,6,7]]]]])"
   ]
  },
  {
   "cell_type": "code",
   "execution_count": 57,
   "id": "2ce626f6-40b1-48b7-95dc-26f355ccc54e",
   "metadata": {},
   "outputs": [
    {
     "data": {
      "text/plain": [
       "5"
      ]
     },
     "execution_count": 57,
     "metadata": {},
     "output_type": "execute_result"
    }
   ],
   "source": [
    "arr_d.ndim"
   ]
  },
  {
   "cell_type": "code",
   "execution_count": 71,
   "id": "f3468c93-b579-41ab-a8df-c8d5bbcaef38",
   "metadata": {},
   "outputs": [],
   "source": [
    "qqq = np.linspace(0,100,101)"
   ]
  },
  {
   "cell_type": "code",
   "execution_count": 73,
   "id": "98d4326f-2ae9-4885-b8a8-fce233cc0e2c",
   "metadata": {},
   "outputs": [
    {
     "data": {
      "text/plain": [
       "array([  0.,   1.,   2.,   3.,   4.,   5.,   6.,   7.,   8.,   9.,  10.,\n",
       "        11.,  12.,  13.,  14.,  15.,  16.,  17.,  18.,  19.,  20.,  21.,\n",
       "        22.,  23.,  24.,  25.,  26.,  27.,  28.,  29.,  30.,  31.,  32.,\n",
       "        33.,  34.,  35.,  36.,  37.,  38.,  39.,  40.,  41.,  42.,  43.,\n",
       "        44.,  45.,  46.,  47.,  48.,  49.,  50.,  51.,  52.,  53.,  54.,\n",
       "        55.,  56.,  57.,  58.,  59.,  60.,  61.,  62.,  63.,  64.,  65.,\n",
       "        66.,  67.,  68.,  69.,  70.,  71.,  72.,  73.,  74.,  75.,  76.,\n",
       "        77.,  78.,  79.,  80.,  81.,  82.,  83.,  84.,  85.,  86.,  87.,\n",
       "        88.,  89.,  90.,  91.,  92.,  93.,  94.,  95.,  96.,  97.,  98.,\n",
       "        99., 100.])"
      ]
     },
     "execution_count": 73,
     "metadata": {},
     "output_type": "execute_result"
    }
   ],
   "source": [
    "qqq"
   ]
  },
  {
   "cell_type": "code",
   "execution_count": 75,
   "id": "d2b3b8df-e31d-4caf-adc6-526fa94e24e5",
   "metadata": {},
   "outputs": [],
   "source": [
    "perm = np.array([[13,23,32,43,54],[43,55,60,7,8],[12,34,45,77,87],[2,55,39,82,49]])"
   ]
  },
  {
   "cell_type": "code",
   "execution_count": 77,
   "id": "68cc220d-d71f-4578-8b8b-c265cd44199c",
   "metadata": {},
   "outputs": [
    {
     "data": {
      "text/plain": [
       "array([[13, 23, 32, 43, 54],\n",
       "       [43, 55, 60,  7,  8],\n",
       "       [12, 34, 45, 77, 87],\n",
       "       [ 2, 55, 39, 82, 49]])"
      ]
     },
     "execution_count": 77,
     "metadata": {},
     "output_type": "execute_result"
    }
   ],
   "source": [
    "perm"
   ]
  },
  {
   "cell_type": "code",
   "execution_count": 81,
   "id": "ca9d8920-8aa4-4cbe-8b29-c1c112235fc0",
   "metadata": {
    "scrolled": true
   },
   "outputs": [
    {
     "data": {
      "text/plain": [
       "array([[60,  7],\n",
       "       [45, 77]])"
      ]
     },
     "execution_count": 81,
     "metadata": {},
     "output_type": "execute_result"
    }
   ],
   "source": [
    "perm[1:3,2:4]"
   ]
  },
  {
   "cell_type": "code",
   "execution_count": 99,
   "id": "a1cc0976-0ffb-4d79-85f1-a83df1991e6d",
   "metadata": {},
   "outputs": [
    {
     "data": {
      "text/plain": [
       "array([[37, 12, 72],\n",
       "       [ 9, 75,  5]])"
      ]
     },
     "execution_count": 99,
     "metadata": {},
     "output_type": "execute_result"
    }
   ],
   "source": [
    "np.random.seed(1)\n",
    "np.random.randint(0,100,(2,3))"
   ]
  },
  {
   "cell_type": "code",
   "execution_count": 122,
   "id": "9960f11d-cd24-4d78-87a9-ad27abf13e9d",
   "metadata": {},
   "outputs": [
    {
     "name": "stdout",
     "output_type": "stream",
     "text": [
      "[[[2.54340494 4.27836939 4.42451759 2.84477613 3.00471886]\n",
      "  [2.12156912 4.67074908 4.82585276 2.13670659 3.57509333]\n",
      "  [2.89132195 4.20920212 4.18532822 2.10837689 3.21969749]\n",
      "  [2.97862378 4.81168315 4.17194101 2.81622475 3.27407375]\n",
      "  [2.43170418 4.94002982 4.81764938 2.33611195 3.17541045]]\n",
      "\n",
      " [[2.37283205 4.00568851 4.25242635 2.79566251 3.01525497]\n",
      "  [2.59884338 4.60380454 4.10514769 2.38194344 3.03647606]\n",
      "  [2.89041156 4.98092086 4.05994199 2.89054594 3.5769015 ]\n",
      "  [2.74247969 4.63018394 4.58184219 2.02043913 3.21002658]\n",
      "  [2.54468488 4.76911517 4.25069523 2.28589569 3.85239509]]]\n"
     ]
    }
   ],
   "source": [
    "np.random.seed(100)\n",
    "a = np.random.rand(2,5,5)\n",
    "b = np.random.randint(2,5,5)\n",
    "c = np.array(a)+np.array(b)\n",
    "print(c)"
   ]
  },
  {
   "cell_type": "code",
   "execution_count": 134,
   "id": "14f20f3b-cb7b-4c17-b34a-ecd861cc5899",
   "metadata": {},
   "outputs": [],
   "source": [
    "nd_plot = np.random.normal(loc = 7,scale = 3, size = 1000)"
   ]
  },
  {
   "cell_type": "code",
   "execution_count": 130,
   "id": "efa14c31-89b4-47ac-8a06-44c7256cd38b",
   "metadata": {},
   "outputs": [],
   "source": [
    "import matplotlib as plt\n",
    "import seaborn as sns"
   ]
  },
  {
   "cell_type": "code",
   "execution_count": 140,
   "id": "335dca0b-5067-4f75-b699-96c7ebdc3460",
   "metadata": {},
   "outputs": [
    {
     "name": "stderr",
     "output_type": "stream",
     "text": [
      "C:\\Users\\Hp\\AppData\\Local\\Temp\\ipykernel_21092\\2010138183.py:1: UserWarning: \n",
      "\n",
      "`distplot` is a deprecated function and will be removed in seaborn v0.14.0.\n",
      "\n",
      "Please adapt your code to use either `displot` (a figure-level function with\n",
      "similar flexibility) or `histplot` (an axes-level function for histograms).\n",
      "\n",
      "For a guide to updating your code to use the new functions, please see\n",
      "https://gist.github.com/mwaskom/de44147ed2974457ad6372750bbe5751\n",
      "\n",
      "  sns.distplot(nd_plot)\n"
     ]
    },
    {
     "data": {
      "text/plain": [
       "<Axes: ylabel='Density'>"
      ]
     },
     "execution_count": 140,
     "metadata": {},
     "output_type": "execute_result"
    },
    {
     "data": {
      "image/png": "[encoded data removed]",
      "text/plain": [
       "<Figure size 640x480 with 1 Axes>"
      ]
     },
     "metadata": {},
     "output_type": "display_data"
    }
   ],
   "source": [
    "sns.distplot(nd_plot)"
   ]
  },
  {
   "cell_type": "code",
   "execution_count": 146,
   "id": "78ce92ce-5806-42ab-9717-a6950d08fc83",
   "metadata": {},
   "outputs": [],
   "source": [
    "ud_plot = np.random.uniform(20,30,1000)"
   ]
  },
  {
   "cell_type": "code",
   "execution_count": 148,
   "id": "99e4a4f8-fa0e-4ff4-89b3-d2176a7a84d3",
   "metadata": {},
   "outputs": [
    {
     "data": {
      "text/plain": [
       "array([23.54098455, 21.63496276, 20.61572168, 27.87142361, 27.62719124,\n",
       "       29.70272471, 25.00295004, 28.5528071 , 23.08851896, 27.52972257,\n",
       "       29.24844241, 23.88399563, 22.92423873, 22.08704852, 21.80690131,\n",
       "       28.89658958, 24.29903724, 29.24367367, 29.09633434, 28.43546112,\n",
       "       21.7627113 , 29.59946493, 23.98510713, 27.29745416, 24.34643531,\n",
       "       26.1594849 , 29.93870762, 25.08709234, 29.98986797, 26.77556553,\n",
       "       22.4171928 , 21.84936518, 27.29171874, 29.23212943, 22.10426622,\n",
       "       29.72050407, 26.00253404, 29.92601845, 23.95688181, 24.71405123,\n",
       "       23.45781949, 20.26085091, 21.3757299 , 23.92587339, 26.49297064,\n",
       "       29.62912793, 27.99570155, 23.25658385, 20.89533745, 23.223367  ,\n",
       "       25.93808305, 20.20387183, 22.91689924, 28.95649854, 25.33714851,\n",
       "       20.82204334, 29.51434127, 23.93606716, 23.84596593, 23.61319102,\n",
       "       28.27048313, 24.61467925, 22.11602099, 20.47722488, 25.09236598,\n",
       "       28.9394839 , 25.32247843, 27.43044634, 20.59565957, 24.96447402,\n",
       "       26.23650202, 28.35936882, 28.54484388, 23.85913398, 22.29643822,\n",
       "       23.5695514 , 22.78808661, 23.88586374, 25.65104155, 28.22110388,\n",
       "       24.75746159, 27.35401575, 24.5961613 , 29.86013026, 29.48174815,\n",
       "       26.99104043, 27.99855416, 24.90955139, 20.12384532, 27.37289413,\n",
       "       23.81911255, 23.92292083, 28.71731379, 20.01057389, 22.88481837,\n",
       "       21.9688666 , 21.35315822, 20.43539825, 25.48120657, 23.04752235,\n",
       "       28.40306081, 20.49813215, 25.01372275, 29.11758102, 28.23429317,\n",
       "       21.17815445, 24.94041585, 24.10114435, 26.54379225, 28.50026286,\n",
       "       26.51930609, 25.02755482, 25.07785058, 20.79479068, 22.88796722,\n",
       "       23.97872605, 29.06158237, 24.66026259, 26.17237812, 24.9897234 ,\n",
       "       26.3917072 , 27.62328497, 22.40399419, 25.28668152, 24.34972602,\n",
       "       21.37971889, 29.38248108, 26.37252508, 23.60148359, 24.87633123,\n",
       "       28.3461646 , 26.20075341, 24.88162435, 27.91411101, 24.58186447,\n",
       "       23.79298141, 25.71159288, 22.26004374, 20.31136776, 26.54630268,\n",
       "       24.38258911, 29.97702198, 29.69240032, 22.69933913, 29.56560282,\n",
       "       26.3743112 , 21.92266296, 21.41359045, 22.23991306, 25.40431041,\n",
       "       21.4201266 , 22.80666249, 26.3183236 , 27.11704153, 25.02009736,\n",
       "       22.218605  , 28.15703745, 26.33919075, 29.33833236, 20.53664438,\n",
       "       24.68853368, 21.67131858, 22.6244917 , 27.62436347, 22.69899634,\n",
       "       28.92640885, 26.52838492, 28.44805305, 26.36604911, 26.76891089,\n",
       "       23.27904422, 29.76691696, 25.97329277, 22.90120252, 20.19226683,\n",
       "       22.00444914, 23.95186443, 23.33883758, 26.24481443, 26.14735504,\n",
       "       25.61772759, 21.62737075, 20.52257077, 21.82118322, 25.87132592,\n",
       "       27.32692579, 25.90531683, 25.12508842, 27.21979899, 21.93000462,\n",
       "       25.24942284, 26.02081871, 27.02105236, 29.22697751, 28.76136492,\n",
       "       28.51621902, 26.1891273 , 22.98058381, 23.49116181, 24.49269733,\n",
       "       21.6557206 , 29.76792813, 25.61801913, 20.95926195, 25.19299633,\n",
       "       24.18046723, 29.69496539, 22.35546612, 28.17546492, 29.40574945,\n",
       "       20.57563485, 29.83015177, 20.21678167, 26.40772695, 23.84422112,\n",
       "       22.67287481, 22.64072472, 21.74213073, 28.4143799 , 22.86983485,\n",
       "       28.1450487 , 25.66788715, 27.53911069, 29.00179446, 29.02943309,\n",
       "       28.69248848, 28.20461118, 27.63263824, 25.40853235, 20.07023897,\n",
       "       22.34543004, 29.23632291, 28.19357426, 29.62924645, 25.38948809,\n",
       "       26.47376006, 27.08853405, 24.41976659, 20.31908094, 25.2063594 ,\n",
       "       28.64351474, 26.23100658, 22.35606393, 23.67445317, 23.32547436,\n",
       "       24.52487518, 26.83555201, 24.98091182, 24.13269909, 23.26422061,\n",
       "       28.64108452, 20.39637512, 27.39923885, 29.27570932, 23.91171112,\n",
       "       22.81728   , 27.01658144, 20.43921155, 21.53553068, 20.03979998,\n",
       "       28.16789121, 29.72212734, 28.94411713, 20.98099645, 26.19040786,\n",
       "       26.49803295, 25.59651011, 29.99576926, 28.03655897, 27.9384145 ,\n",
       "       26.56493733, 25.37293365, 27.91916412, 24.35820084, 27.92826413,\n",
       "       23.15816619, 21.34112994, 26.20445747, 25.83501892, 29.6885128 ,\n",
       "       29.05924634, 23.30509449, 23.88915762, 21.69068383, 27.2168602 ,\n",
       "       23.06821036, 26.9931249 , 23.79004862, 24.4560634 , 21.58384492,\n",
       "       24.68093892, 24.66388196, 24.26334866, 24.84177029, 20.60444141,\n",
       "       25.72968164, 23.21116559, 21.2637057 , 22.2322026 , 25.71653359,\n",
       "       22.35328016, 20.87816701, 28.72953333, 21.55775337, 27.76710165,\n",
       "       21.90981055, 27.274293  , 29.50140645, 28.80623635, 23.76684364,\n",
       "       27.93905219, 23.6157442 , 26.1353467 , 29.23333811, 25.14705807,\n",
       "       24.46874941, 29.60532472, 25.05836506, 20.00412184, 21.93409092,\n",
       "       24.84295223, 20.02718904, 20.26421549, 28.80177401, 27.79714984,\n",
       "       23.92849292, 20.78996723, 22.68879992, 21.42850492, 22.79420539,\n",
       "       28.67042988, 22.96761879, 23.38713632, 28.56124911, 23.89768623,\n",
       "       23.70560134, 26.94531496, 25.49772728, 26.56749848, 24.13953005,\n",
       "       29.9550205 , 26.27089176, 20.353271  , 21.52957214, 20.47506109,\n",
       "       26.23954376, 28.27637378, 29.39225548, 22.44033922, 24.52512474,\n",
       "       23.8569667 , 29.71071308, 20.45402615, 24.32647183, 22.12293017,\n",
       "       27.81308548, 22.8234674 , 21.49234246, 27.81432002, 22.89461308,\n",
       "       26.317534  , 25.90876559, 26.12426471, 22.38571575, 22.38078473,\n",
       "       20.15390587, 23.96316103, 25.1310998 , 26.24185196, 23.11973709,\n",
       "       26.79314853, 28.3690099 , 27.66032718, 22.95727732, 28.51614165,\n",
       "       26.45981914, 27.82254307, 24.11012948, 20.87508517, 21.34634542,\n",
       "       26.66662912, 23.96134956, 29.12860464, 24.6335074 , 29.99782786,\n",
       "       23.47531092, 24.17214347, 26.88520978, 25.08708459, 26.41512123,\n",
       "       26.25595207, 27.51629502, 28.34306161, 23.77937706, 22.38490453,\n",
       "       22.23052244, 24.8841971 , 26.76315095, 24.75126644, 29.74415605,\n",
       "       26.7142647 , 28.20881998, 29.06506906, 26.83141787, 21.09882939,\n",
       "       26.62887922, 25.85065513, 25.78963097, 23.31975111, 20.29006638,\n",
       "       23.34748829, 26.39889377, 29.16041572, 22.81483079, 24.65883678,\n",
       "       23.00733633, 24.35673073, 24.94715735, 24.27952196, 28.73942908,\n",
       "       25.17997665, 20.5388538 , 20.16316555, 22.50267853, 27.15079973,\n",
       "       22.35341292, 21.47059766, 27.29798339, 25.45040592, 22.22623272,\n",
       "       21.79971722, 23.84915325, 26.49963253, 24.79738053, 22.41145423,\n",
       "       28.07252728, 21.52560507, 23.17983187, 20.94409312, 24.14355836,\n",
       "       28.94846708, 22.48870273, 25.04170771, 26.03323728, 27.32937158,\n",
       "       20.38516916, 22.41263598, 26.49935026, 20.85999656, 29.70280961,\n",
       "       29.03129655, 21.1320813 , 20.47393948, 23.91320667, 27.10420791,\n",
       "       27.4947271 , 21.19812428, 22.2221535 , 21.30974309, 29.88667457,\n",
       "       24.03814729, 21.80257325, 25.78659113, 27.48164465, 21.08058672,\n",
       "       20.810554  , 29.61303485, 27.2289507 , 21.87042285, 25.44727253,\n",
       "       29.24550731, 29.30790135, 26.42893972, 26.97790973, 26.81194944,\n",
       "       26.98157484, 21.8457711 , 21.65767339, 26.95213809, 28.33346021,\n",
       "       28.2272323 , 26.46120081, 25.1459337 , 29.99915635, 29.02165941,\n",
       "       23.76898524, 26.95713762, 25.23342257, 23.10894675, 20.49418988,\n",
       "       24.9738241 , 23.21281269, 26.83516367, 28.39083842, 25.58668955,\n",
       "       27.38463829, 20.82012445, 28.36715694, 25.17677447, 28.35392764,\n",
       "       25.54974182, 27.97827829, 27.71674648, 22.17840772, 23.39667588,\n",
       "       28.79446453, 20.61645321, 27.37490582, 20.58337233, 24.27051525,\n",
       "       25.91330062, 24.57135461, 26.87069454, 20.51913592, 29.61317728,\n",
       "       21.24797111, 24.57483116, 23.26702365, 25.82996848, 26.27863309,\n",
       "       27.13645173, 21.20400396, 21.46258418, 25.28300033, 20.53826141,\n",
       "       28.49467412, 22.23429231, 21.76312   , 20.46346908, 27.70710385,\n",
       "       20.1647991 , 22.32200958, 24.0482232 , 22.07145255, 22.57787423,\n",
       "       21.23688847, 28.91039591, 20.89913179, 26.89226052, 23.05483486,\n",
       "       28.56400513, 22.45856783, 23.79790997, 24.91434467, 26.19128765,\n",
       "       25.25175475, 22.99057128, 27.93908992, 20.21405992, 25.87159665,\n",
       "       27.50544674, 24.75122922, 27.94176782, 21.69284338, 28.5606935 ,\n",
       "       22.42776594, 27.39218371, 27.53378827, 22.92708497, 21.2420868 ,\n",
       "       25.38780424, 20.4253116 , 28.27337647, 25.05168737, 28.89031985,\n",
       "       24.48194487, 20.43831558, 21.11503817, 20.92410494, 22.45996229,\n",
       "       29.44121154, 25.50933691, 23.1291435 , 21.70465593, 28.64210423,\n",
       "       28.04055808, 22.95142228, 24.49802719, 26.35222324, 25.64470735,\n",
       "       21.88647886, 27.1753706 , 28.90793171, 24.73453231, 29.21948351,\n",
       "       23.23726103, 26.35719687, 21.30763699, 20.93614117, 22.12368949,\n",
       "       22.3643929 , 29.94368641, 22.59849433, 29.91127328, 27.79646662,\n",
       "       24.01371281, 23.34683544, 23.9815101 , 24.40918245, 21.458084  ,\n",
       "       28.9606815 , 24.3981896 , 27.34681739, 25.58758089, 27.11023088,\n",
       "       22.07044835, 20.17684547, 29.55794189, 27.80591448, 20.99987506,\n",
       "       23.14204866, 20.98987259, 29.41745835, 21.0119701 , 26.0486083 ,\n",
       "       21.84316889, 26.14276243, 22.47730152, 27.07277688, 27.32785421,\n",
       "       26.51316886, 21.43731268, 29.67653539, 25.31309619, 22.83450936,\n",
       "       28.43869154, 21.80640949, 25.01341835, 22.58556668, 20.21221145,\n",
       "       29.4366497 , 29.08302821, 25.6753471 , 26.90844872, 25.28009974,\n",
       "       20.42168079, 29.71286349, 29.40102767, 26.74951854, 21.87695264,\n",
       "       21.43784086, 23.07709443, 26.30595343, 29.73597036, 20.11420605,\n",
       "       23.85959412, 26.78769857, 26.0624389 , 24.64657984, 24.32671611,\n",
       "       21.5837447 , 24.70244285, 23.75740261, 21.65246982, 24.39705933,\n",
       "       26.10657417, 21.19765045, 21.94668106, 27.54153089, 20.17167192,\n",
       "       26.53166636, 20.33269083, 23.83022143, 21.40784828, 22.74160893,\n",
       "       22.99717472, 20.44461734, 28.873735  , 22.84911003, 26.8846495 ,\n",
       "       23.61153993, 28.98723165, 20.58965538, 29.57892008, 29.41485877,\n",
       "       24.39094709, 28.03058895, 28.18750804, 29.32614486, 28.37084877,\n",
       "       22.19930538, 20.22010725, 23.73318927, 29.54562461, 25.10392458,\n",
       "       27.42265415, 24.7457646 , 26.42216788, 28.59851985, 24.1641941 ,\n",
       "       29.30509592, 20.06706664, 27.50383945, 28.39645931, 20.68720578,\n",
       "       21.76485006, 28.88129483, 23.60147277, 29.52473508, 20.56153419,\n",
       "       29.33642607, 29.33115121, 22.86647318, 24.86757024, 29.06621154,\n",
       "       26.1270166 , 29.35523934, 21.38351265, 27.349761  , 25.73672639,\n",
       "       28.76418514, 24.02184578, 27.34171243, 25.22505479, 27.06140058,\n",
       "       28.22979374, 28.70312384, 20.12707892, 25.03605713, 20.54321912,\n",
       "       23.02197323, 23.15204068, 25.7268801 , 20.38815607, 22.37337426,\n",
       "       22.98230139, 26.42260439, 27.13405826, 23.6179803 , 23.8563122 ,\n",
       "       25.93693642, 27.08679911, 29.64862231, 22.65637101, 28.12897559,\n",
       "       23.26918942, 24.65913129, 28.5196761 , 23.56489492, 22.52454449,\n",
       "       29.38019959, 29.46726295, 21.96564244, 28.57673914, 26.11313866,\n",
       "       21.3443483 , 28.5305026 , 24.21356979, 24.44612369, 27.1001573 ,\n",
       "       25.0205715 , 20.41178639, 27.21890293, 25.00107786, 23.87150526,\n",
       "       21.71988662, 29.16877082, 24.00459016, 27.2577343 , 22.68645459,\n",
       "       28.53051445, 20.34873556, 27.24598277, 20.39445992, 24.66695203,\n",
       "       23.9759378 , 24.218127  , 24.17236021, 22.98355622, 26.26083956,\n",
       "       22.15414691, 27.11306521, 29.63703582, 21.02930705, 20.73461017,\n",
       "       26.79009997, 27.29775962, 22.40610791, 22.77931536, 27.11720586,\n",
       "       27.39390714, 21.88028149, 28.25088848, 24.11731555, 24.37424466,\n",
       "       23.85617302, 26.60824666, 24.14103934, 21.07830449, 23.62812141,\n",
       "       27.044736  , 24.24263479, 29.5905087 , 29.22154817, 21.79588973,\n",
       "       23.99647761, 27.01416013, 24.70883713, 22.55887435, 29.6795611 ,\n",
       "       24.87822692, 26.35917568, 28.32085048, 22.20382508, 25.29604392,\n",
       "       23.25949299, 23.14220669, 25.20077465, 29.60529029, 28.7488674 ,\n",
       "       26.21549825, 22.34280904, 26.98811219, 28.44317936, 29.06457197,\n",
       "       20.60460224, 27.49780229, 27.62309153, 24.7336805 , 23.78992991,\n",
       "       22.3073676 , 24.28840422, 27.60074514, 29.54949684, 27.17710295,\n",
       "       25.68595693, 26.49371619, 22.54888684, 24.88597205, 20.93906858,\n",
       "       22.99660035, 20.20124151, 22.94923699, 22.21186794, 21.27868308,\n",
       "       22.36897545, 20.74480705, 29.78635623, 29.88750041, 26.62721109,\n",
       "       20.68428057, 28.42848814, 26.23244999, 28.66366392, 28.12794365,\n",
       "       23.2264806 , 21.24216629, 28.10023032, 26.38785977, 25.40765488,\n",
       "       27.6120637 , 26.87302864, 26.89804094, 23.90449132, 23.52410149,\n",
       "       29.91336077, 22.22361625, 26.67144166, 23.41891237, 23.33966916,\n",
       "       22.06784369, 28.01268779, 26.90234588, 28.45752377, 20.68414115,\n",
       "       23.83963521, 24.74506255, 25.63019696, 27.88980492, 24.7071894 ,\n",
       "       20.4507681 , 28.36373373, 26.52477688, 26.76864992, 25.44886979,\n",
       "       29.03558373, 20.92324492, 22.94376603, 27.92196132, 24.03049335,\n",
       "       25.6627806 , 26.20383261, 23.63079966, 22.05077135, 26.57117383,\n",
       "       22.3040483 , 20.89387633, 22.43684653, 23.465101  , 20.71444819,\n",
       "       28.65876068, 29.80843295, 22.4655315 , 27.55966585, 23.44056073,\n",
       "       28.4373971 , 29.13330891, 27.899437  , 21.83671398, 27.14743199,\n",
       "       21.44453972, 21.37905362, 27.89555726, 23.32001147, 21.10958853,\n",
       "       22.37961912, 25.8201588 , 22.94789426, 24.87751363, 28.42200602,\n",
       "       23.42911754, 20.32758792, 24.7637237 , 28.87976949, 20.2629068 ,\n",
       "       25.76141684, 24.14240855, 23.57746434, 20.39566155, 25.75493741,\n",
       "       21.06809349, 22.37210334, 22.58628433, 21.56678529, 20.7624483 ,\n",
       "       26.91214309, 25.50676328, 21.37066199, 21.04749169, 24.04537789,\n",
       "       28.63364227, 23.89645097, 27.34018135, 28.50015895, 26.63837679,\n",
       "       26.27347357, 24.364583  , 22.4377376 , 26.69250407, 21.01204923,\n",
       "       28.81890192, 22.21522692, 26.80363369, 26.09199025, 28.27365488,\n",
       "       21.89119241, 20.17320345, 21.18607762, 25.55132682, 24.1916785 ,\n",
       "       25.82457084, 29.94394532, 24.71943061, 27.60281866, 28.65584317,\n",
       "       27.92374823, 25.69203487, 20.5837376 , 20.82620906, 21.17243327,\n",
       "       29.24725229, 26.64537986, 24.30485852, 25.24802225, 21.23071171,\n",
       "       26.49850483, 23.09646729, 25.09458186, 23.08698563, 29.03078589,\n",
       "       20.46412902, 27.64069616, 28.75245229, 20.12251273, 25.92250222,\n",
       "       20.32287169, 24.54899891, 22.11754878, 25.47118105, 24.63258481,\n",
       "       24.72850141, 24.16545333, 29.05113436, 26.81869965, 22.55520124,\n",
       "       20.76916682, 26.8613099 , 23.38455392, 26.19147097, 22.64118197,\n",
       "       23.94046381, 21.35203869, 22.4543062 , 22.80197236, 29.064653  ,\n",
       "       23.68231553, 26.39170641, 20.20671028, 21.09188438, 27.98079112])"
      ]
     },
     "execution_count": 148,
     "metadata": {},
     "output_type": "execute_result"
    }
   ],
   "source": [
    "ud_plot"
   ]
  },
  {
   "cell_type": "code",
   "execution_count": 152,
   "id": "9a21c238-b2cd-4dc7-983e-67cc9937141c",
   "metadata": {},
   "outputs": [
    {
     "name": "stderr",
     "output_type": "stream",
     "text": [
      "C:\\Users\\Hp\\AppData\\Local\\Temp\\ipykernel_21092\\626659835.py:1: UserWarning: \n",
      "\n",
      "`distplot` is a deprecated function and will be removed in seaborn v0.14.0.\n",
      "\n",
      "Please adapt your code to use either `displot` (a figure-level function with\n",
      "similar flexibility) or `histplot` (an axes-level function for histograms).\n",
      "\n",
      "For a guide to updating your code to use the new functions, please see\n",
      "https://gist.github.com/mwaskom/de44147ed2974457ad6372750bbe5751\n",
      "\n",
      "  sns.distplot(ud_plot)\n"
     ]
    },
    {
     "data": {
      "text/plain": [
       "<Axes: ylabel='Density'>"
      ]
     },
     "execution_count": 152,
     "metadata": {},
     "output_type": "execute_result"
    },
    {
     "data": {
      "image/png": "[encoded data removed]",
      "text/plain": [
       "<Figure size 640x480 with 1 Axes>"
      ]
     },
     "metadata": {},
     "output_type": "display_data"
    }
   ],
   "source": [
    "sns.distplot(ud_plot)"
   ]
  },
  {
   "cell_type": "code",
   "execution_count": 166,
   "id": "eb49fe82-5e56-41a8-aefc-3065e3a6768c",
   "metadata": {},
   "outputs": [
    {
     "data": {
      "text/plain": [
       "<Axes: ylabel='Count'>"
      ]
     },
     "execution_count": 166,
     "metadata": {},
     "output_type": "execute_result"
    },
    {
     "data": {
      "image/png": "[encoded data removed]",
      "text/plain": [
       "<Figure size 640x480 with 1 Axes>"
      ]
     },
     "metadata": {},
     "output_type": "display_data"
    }
   ],
   "source": [
    "sns.histplot(ud_plot)"
   ]
  },
  {
   "cell_type": "code",
   "execution_count": 180,
   "id": "1dff0069-df0d-439c-b4f4-f3bd6bda7a93",
   "metadata": {},
   "outputs": [],
   "source": [
    "\n",
    "np.random.seed(3)\n",
    "std_distplot = np.random.randn(1000)"
   ]
  },
  {
   "cell_type": "code",
   "execution_count": 182,
   "id": "c2e656fc-6035-47af-a2ce-75fbb9673c90",
   "metadata": {},
   "outputs": [
    {
     "name": "stderr",
     "output_type": "stream",
     "text": [
      "C:\\Users\\Hp\\AppData\\Local\\Temp\\ipykernel_21092\\1409517692.py:1: UserWarning: \n",
      "\n",
      "`distplot` is a deprecated function and will be removed in seaborn v0.14.0.\n",
      "\n",
      "Please adapt your code to use either `displot` (a figure-level function with\n",
      "similar flexibility) or `histplot` (an axes-level function for histograms).\n",
      "\n",
      "For a guide to updating your code to use the new functions, please see\n",
      "https://gist.github.com/mwaskom/de44147ed2974457ad6372750bbe5751\n",
      "\n",
      "  sns.distplot(std_distplot)\n"
     ]
    },
    {
     "data": {
      "text/plain": [
       "<Axes: ylabel='Density'>"
      ]
     },
     "execution_count": 182,
     "metadata": {},
     "output_type": "execute_result"
    },
    {
     "data": {
      "image/png": "[encoded data removed]",
      "text/plain": [
       "<Figure size 640x480 with 1 Axes>"
      ]
     },
     "metadata": {},
     "output_type": "display_data"
    }
   ],
   "source": [
    "sns.distplot(std_distplot)"
   ]
  },
  {
   "cell_type": "code",
   "execution_count": null,
   "id": "3bbe0994-c433-4342-99dd-6fad8302230a",
   "metadata": {},
   "outputs": [],
   "source": []
  }
 ],
 "metadata": {
  "kernelspec": {
   "display_name": "Python 3 (ipykernel)",
   "language": "python",
   "name": "python3"
  },
  "language_info": {
   "codemirror_mode": {
    "name": "ipython",
    "version": 3
   },
   "file_extension": ".py",
   "mimetype": "text/x-python",
   "name": "python",
   "nbconvert_exporter": "python",
   "pygments_lexer": "ipython3",
   "version": "3.12.4"
  }
 },
 "nbformat": 4,
 "nbformat_minor": 5
}
