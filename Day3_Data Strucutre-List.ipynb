{
 "cells": [
  {
   "cell_type": "code",
   "execution_count": 3,
   "id": "2667c599-4b78-46f0-bc8f-de4501a5a15b",
   "metadata": {},
   "outputs": [],
   "source": [
    "## DATA STRUCTURES:\n",
    "##1. Lists\n",
    "##2. Tuples\n",
    "##3. Dictionaries\n",
    "##4. Sets"
   ]
  },
  {
   "cell_type": "code",
   "execution_count": 5,
   "id": "56d11714-5c47-4b99-bb78-59f7890dc575",
   "metadata": {},
   "outputs": [],
   "source": [
    "OP = [2000,300,400,450,187,210,196,198,219,179]"
   ]
  },
  {
   "cell_type": "code",
   "execution_count": 7,
   "id": "18f37999-59f1-4500-81fc-8a5c6d4734e8",
   "metadata": {},
   "outputs": [
    {
     "data": {
      "text/plain": [
       "[2000, 300, 400, 450, 187, 210, 196, 198, 219, 179]"
      ]
     },
     "execution_count": 7,
     "metadata": {},
     "output_type": "execute_result"
    }
   ],
   "source": [
    "OP"
   ]
  },
  {
   "cell_type": "code",
   "execution_count": 9,
   "id": "c90d0a6a-28ef-40d4-9f73-844848833c35",
   "metadata": {},
   "outputs": [
    {
     "data": {
      "text/plain": [
       "list"
      ]
     },
     "execution_count": 9,
     "metadata": {},
     "output_type": "execute_result"
    }
   ],
   "source": [
    "type(OP)"
   ]
  },
  {
   "cell_type": "code",
   "execution_count": 11,
   "id": "3a28d43c-453c-4c58-bc36-fd49ae758c99",
   "metadata": {},
   "outputs": [
    {
     "data": {
      "text/plain": [
       "400"
      ]
     },
     "execution_count": 11,
     "metadata": {},
     "output_type": "execute_result"
    }
   ],
   "source": [
    "OP[2]"
   ]
  },
  {
   "cell_type": "code",
   "execution_count": 13,
   "id": "414782aa-d0fd-45ce-b3c0-fec5b71d0f3f",
   "metadata": {},
   "outputs": [
    {
     "data": {
      "text/plain": [
       "219"
      ]
     },
     "execution_count": 13,
     "metadata": {},
     "output_type": "execute_result"
    }
   ],
   "source": [
    "OP[-2]"
   ]
  },
  {
   "cell_type": "code",
   "execution_count": 19,
   "id": "f6471071-6e58-4588-a9bf-2baec930a6b2",
   "metadata": {},
   "outputs": [
    {
     "data": {
      "text/plain": [
       "400"
      ]
     },
     "execution_count": 19,
     "metadata": {},
     "output_type": "execute_result"
    }
   ],
   "source": [
    "OP[2]"
   ]
  },
  {
   "cell_type": "code",
   "execution_count": 21,
   "id": "be48287c-ca8a-4fac-a0d5-dfc8060c8ca9",
   "metadata": {},
   "outputs": [],
   "source": [
    "OP.append(1500)"
   ]
  },
  {
   "cell_type": "code",
   "execution_count": 23,
   "id": "b7dd180d-b9bd-4779-a9dc-0b9749bd4ad9",
   "metadata": {},
   "outputs": [
    {
     "data": {
      "text/plain": [
       "[2000, 300, 400, 450, 187, 210, 196, 198, 219, 179, 1500]"
      ]
     },
     "execution_count": 23,
     "metadata": {},
     "output_type": "execute_result"
    }
   ],
   "source": [
    "OP"
   ]
  },
  {
   "cell_type": "code",
   "execution_count": 25,
   "id": "09a9a6ba-aecf-4b2e-b180-48415f0c28f3",
   "metadata": {},
   "outputs": [
    {
     "data": {
      "text/plain": [
       "11"
      ]
     },
     "execution_count": 25,
     "metadata": {},
     "output_type": "execute_result"
    }
   ],
   "source": [
    "len(OP)"
   ]
  },
  {
   "cell_type": "code",
   "execution_count": 27,
   "id": "40498d3f-45aa-42a5-bee4-70f107c560f5",
   "metadata": {},
   "outputs": [],
   "source": [
    "a = 'porosity_and_permeability'"
   ]
  },
  {
   "cell_type": "code",
   "execution_count": 29,
   "id": "9d17730f-a430-4045-9821-6dc30eed6c1c",
   "metadata": {},
   "outputs": [
    {
     "data": {
      "text/plain": [
       "'porosity_and_permeability'"
      ]
     },
     "execution_count": 29,
     "metadata": {},
     "output_type": "execute_result"
    }
   ],
   "source": [
    "a"
   ]
  },
  {
   "cell_type": "code",
   "execution_count": 31,
   "id": "5b7516a7-4ec1-436c-b1e3-15d814258ac7",
   "metadata": {},
   "outputs": [
    {
     "data": {
      "text/plain": [
       "25"
      ]
     },
     "execution_count": 31,
     "metadata": {},
     "output_type": "execute_result"
    }
   ],
   "source": [
    "len(a)"
   ]
  },
  {
   "cell_type": "code",
   "execution_count": 33,
   "id": "d7a5b35e-d9f4-4f13-87c9-530e4e0bcf97",
   "metadata": {},
   "outputs": [
    {
     "data": {
      "text/plain": [
       "300"
      ]
     },
     "execution_count": 33,
     "metadata": {},
     "output_type": "execute_result"
    }
   ],
   "source": [
    "OP[1]"
   ]
  },
  {
   "cell_type": "code",
   "execution_count": 35,
   "id": "2f30e3aa-4ea2-4919-bd33-fe754b8b24c7",
   "metadata": {},
   "outputs": [],
   "source": [
    "OP[1] = 220"
   ]
  },
  {
   "cell_type": "code",
   "execution_count": 37,
   "id": "a3fa75d4-1122-411e-8b5e-c3e8c7095bd7",
   "metadata": {},
   "outputs": [
    {
     "data": {
      "text/plain": [
       "[2000, 220, 400, 450, 187, 210, 196, 198, 219, 179, 1500]"
      ]
     },
     "execution_count": 37,
     "metadata": {},
     "output_type": "execute_result"
    }
   ],
   "source": [
    "OP"
   ]
  },
  {
   "cell_type": "code",
   "execution_count": 39,
   "id": "868fba75-f37a-488c-af1e-39122e59eafb",
   "metadata": {},
   "outputs": [
    {
     "data": {
      "text/plain": [
       "str"
      ]
     },
     "execution_count": 39,
     "metadata": {},
     "output_type": "execute_result"
    }
   ],
   "source": [
    "type(a)"
   ]
  },
  {
   "cell_type": "code",
   "execution_count": 41,
   "id": "b881c1b0-5dfc-45ac-bf47-7945e767c6b2",
   "metadata": {},
   "outputs": [],
   "source": [
    "## Slicing: accessing more than one data"
   ]
  },
  {
   "cell_type": "code",
   "execution_count": 43,
   "id": "67083cfc-dcd7-4b2d-ac81-180ab208d22a",
   "metadata": {},
   "outputs": [
    {
     "data": {
      "text/plain": [
       "[2000, 220, 400, 450, 187, 210, 196, 198, 219, 179, 1500]"
      ]
     },
     "execution_count": 43,
     "metadata": {},
     "output_type": "execute_result"
    }
   ],
   "source": [
    "OP"
   ]
  },
  {
   "cell_type": "code",
   "execution_count": 45,
   "id": "b25b59f3-9fd2-41c3-a501-9fdcf7bbf77c",
   "metadata": {},
   "outputs": [
    {
     "data": {
      "text/plain": [
       "[2000, 220, 400, 450, 187, 210, 196, 198, 219, 179]"
      ]
     },
     "execution_count": 45,
     "metadata": {},
     "output_type": "execute_result"
    }
   ],
   "source": [
    "OP[0:10:1]"
   ]
  },
  {
   "cell_type": "code",
   "execution_count": 51,
   "id": "6262f2e1-ab49-4157-81c8-9f6fd4a3c3a1",
   "metadata": {},
   "outputs": [],
   "source": [
    "CrudeDensity =[]"
   ]
  },
  {
   "cell_type": "code",
   "execution_count": 53,
   "id": "3467cd0f-be0f-4a81-b244-9502194f2c1f",
   "metadata": {},
   "outputs": [
    {
     "data": {
      "text/plain": [
       "[]"
      ]
     },
     "execution_count": 53,
     "metadata": {},
     "output_type": "execute_result"
    }
   ],
   "source": [
    "CrudeDensity"
   ]
  },
  {
   "cell_type": "code",
   "execution_count": 55,
   "id": "16926f0b-ab2e-4875-a594-7b901b3a2fe1",
   "metadata": {},
   "outputs": [],
   "source": [
    "CrudeDensity.append(35)"
   ]
  },
  {
   "cell_type": "code",
   "execution_count": 57,
   "id": "f6905899-f27d-4e87-87ae-9b7124a62d42",
   "metadata": {},
   "outputs": [
    {
     "data": {
      "text/plain": [
       "[35]"
      ]
     },
     "execution_count": 57,
     "metadata": {},
     "output_type": "execute_result"
    }
   ],
   "source": [
    "CrudeDensity"
   ]
  },
  {
   "cell_type": "code",
   "execution_count": 59,
   "id": "d6424b42-6c93-46c3-97c1-2b0898acea96",
   "metadata": {},
   "outputs": [],
   "source": [
    "CrudeDensity.append(40)"
   ]
  },
  {
   "cell_type": "code",
   "execution_count": 61,
   "id": "adad824c-1897-4f2d-a860-84a9f9bf29fa",
   "metadata": {},
   "outputs": [
    {
     "data": {
      "text/plain": [
       "[35, 40]"
      ]
     },
     "execution_count": 61,
     "metadata": {},
     "output_type": "execute_result"
    }
   ],
   "source": [
    "CrudeDensity"
   ]
  },
  {
   "cell_type": "code",
   "execution_count": 69,
   "id": "be0bb205-134b-4f7d-a30d-809ee6d2c067",
   "metadata": {},
   "outputs": [],
   "source": [
    "CrudeDensity.insert(1,22)"
   ]
  },
  {
   "cell_type": "code",
   "execution_count": 71,
   "id": "51aa84ab-0a77-4d6c-a5f8-fc2acfa604e7",
   "metadata": {},
   "outputs": [
    {
     "data": {
      "text/plain": [
       "[22, 22, 35, 40]"
      ]
     },
     "execution_count": 71,
     "metadata": {},
     "output_type": "execute_result"
    }
   ],
   "source": [
    "CrudeDensity"
   ]
  },
  {
   "cell_type": "code",
   "execution_count": 73,
   "id": "6abc5000-3bc8-4e58-936c-d12d1c3a415c",
   "metadata": {},
   "outputs": [],
   "source": [
    "CrudeDensity.append(55)"
   ]
  },
  {
   "cell_type": "code",
   "execution_count": 75,
   "id": "4ebdd03d-e323-420a-80bb-317c17745ebd",
   "metadata": {},
   "outputs": [
    {
     "data": {
      "text/plain": [
       "[22, 22, 35, 40, 55]"
      ]
     },
     "execution_count": 75,
     "metadata": {},
     "output_type": "execute_result"
    }
   ],
   "source": [
    "CrudeDensity"
   ]
  },
  {
   "cell_type": "code",
   "execution_count": null,
   "id": "2065b090-3320-46ae-955c-8f1700b5db0c",
   "metadata": {},
   "outputs": [],
   "source": []
  }
 ],
 "metadata": {
  "kernelspec": {
   "display_name": "Python 3 (ipykernel)",
   "language": "python",
   "name": "python3"
  },
  "language_info": {
   "codemirror_mode": {
    "name": "ipython",
    "version": 3
   },
   "file_extension": ".py",
   "mimetype": "text/x-python",
   "name": "python",
   "nbconvert_exporter": "python",
   "pygments_lexer": "ipython3",
   "version": "3.12.4"
  }
 },
 "nbformat": 4,
 "nbformat_minor": 5
}
