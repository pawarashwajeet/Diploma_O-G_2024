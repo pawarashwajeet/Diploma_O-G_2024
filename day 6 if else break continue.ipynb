{
 "cells": [
  {
   "cell_type": "code",
   "execution_count": 1,
   "id": "a3b9e876-b3f5-4ec8-904f-c40b977ef78c",
   "metadata": {},
   "outputs": [],
   "source": [
    "## If Else elif, break and continue "
   ]
  },
  {
   "cell_type": "code",
   "execution_count": 5,
   "id": "53c2668d-c723-42f5-b6fa-f097187346c0",
   "metadata": {},
   "outputs": [
    {
     "name": "stdin",
     "output_type": "stream",
     "text": [
      "Enter resrvoir pressure (psia):  2500\n",
      "Enter bubble point pressure (psia):  1500\n"
     ]
    }
   ],
   "source": [
    "Res_p = float(input(\"Enter resrvoir pressure (psia): \"))\n",
    "Bbl_p = float(input(\"Enter bubble point pressure (psia): \"))"
   ]
  },
  {
   "cell_type": "code",
   "execution_count": 13,
   "id": "5d317b54-d4b7-48a9-91e4-e1d598a7cb94",
   "metadata": {},
   "outputs": [
    {
     "name": "stdin",
     "output_type": "stream",
     "text": [
      "Enter resrvoir pressure (psia):  2500\n",
      "Enter bubble point pressure (psia):  3000\n"
     ]
    },
    {
     "name": "stdout",
     "output_type": "stream",
     "text": [
      "Reservoir pressure 2500.0 psi is lesser than bubble point pressure 3000.0 psi.\n",
      "The Reservoir is supersaturated. Gas has evolved, Two phases exists\n"
     ]
    }
   ],
   "source": [
    "Res_p = float(input(\"Enter resrvoir pressure (psia): \"))\n",
    "Bbl_p = float(input(\"Enter bubble point pressure (psia): \"))\n",
    "if Res_p > Bbl_p:\n",
    "    print(f\"Reservoir pressure {Res_p} psi is greater than bubble point {Bbl_p} psi.\\nThe Reservoir is undersaturated.\")\n",
    "elif Res_p == Bbl_p:\n",
    "    print(f\"Reservoir pressure {Res_p} psi is equal to bubble point pressure {Bbl_p} psi.\\nThe Reservoir is saturated.\")\n",
    "else:\n",
    "    print(f\"Reservoir pressure {Res_p} psi is lesser than bubble point pressure {Bbl_p} psi.\\nThe Reservoir is supersaturated. Gas has evolved, Two phases exists\")"
   ]
  },
  {
   "cell_type": "code",
   "execution_count": 15,
   "id": "fca9c826-92bf-43e6-a50c-c25611414894",
   "metadata": {},
   "outputs": [],
   "source": [
    "pressure = [2500,3500,4300,5500,6500,1200,1000,800]"
   ]
  },
  {
   "cell_type": "code",
   "execution_count": 17,
   "id": "c6741c80-9f6e-47ae-b6a8-9b66e83f11cd",
   "metadata": {},
   "outputs": [
    {
     "data": {
      "text/plain": [
       "[2500, 3500, 4300, 5500, 6500, 1200, 1000, 800]"
      ]
     },
     "execution_count": 17,
     "metadata": {},
     "output_type": "execute_result"
    }
   ],
   "source": [
    "pressure"
   ]
  },
  {
   "cell_type": "code",
   "execution_count": 21,
   "id": "d0094f39-2da8-48f1-a215-5aa3608e763b",
   "metadata": {},
   "outputs": [],
   "source": [
    "## 2 lists: low pressure, high pressure\n",
    "## pressure less than 4000\n",
    "## high pressure: pressure> = 4000"
   ]
  },
  {
   "cell_type": "code",
   "execution_count": 41,
   "id": "35c713b7-1576-4565-a7c8-87d14c76d1ef",
   "metadata": {},
   "outputs": [
    {
     "name": "stdout",
     "output_type": "stream",
     "text": [
      "Pressure 2500 is lesser than 4000 psi, so low pressure\n",
      "Pressure 3500 is lesser than 4000 psi, so low pressure\n",
      "Pressure 4300 is higher than 4000 psi, so high pressure\n",
      "Pressure 5500 is higher than 4000 psi, so high pressure\n",
      "Pressure 6500 is higher than 4000 psi, so high pressure\n",
      "Pressure 1200 is lesser than 4000 psi, so low pressure\n",
      "Pressure 1000 is lesser than 4000 psi, so low pressure\n",
      "Pressure 800 is lesser than 4000 psi, so low pressure\n"
     ]
    }
   ],
   "source": [
    "pressure = [2500,3500,4300,5500,6500,1200,1000,800]\n",
    "low_p = []\n",
    "high_p = []\n",
    "for i in pressure:\n",
    "    if i < 4000:\n",
    "        print(f\"Pressure {i} is lesser than 4000 psi, so low pressure\")\n",
    "        low_p.append(i)\n",
    "    else:\n",
    "        print(f\"Pressure {i} is higher than 4000 psi, so high pressure\")\n",
    "        high_p.append(i)"
   ]
  },
  {
   "cell_type": "code",
   "execution_count": 43,
   "id": "ba424ad0-b4fe-41fa-907a-26b7191dd567",
   "metadata": {},
   "outputs": [
    {
     "data": {
      "text/plain": [
       "[2500, 3500, 1200, 1000, 800]"
      ]
     },
     "execution_count": 43,
     "metadata": {},
     "output_type": "execute_result"
    }
   ],
   "source": [
    "low_p"
   ]
  },
  {
   "cell_type": "code",
   "execution_count": 47,
   "id": "768e3bd8-dd84-4fca-b5ff-d37d3999eb88",
   "metadata": {},
   "outputs": [
    {
     "data": {
      "text/plain": [
       "[4300, 5500, 6500]"
      ]
     },
     "execution_count": 47,
     "metadata": {},
     "output_type": "execute_result"
    }
   ],
   "source": [
    "high_p"
   ]
  },
  {
   "cell_type": "code",
   "execution_count": 51,
   "id": "98e059fe-b605-44ec-91a4-4e4d6e00460c",
   "metadata": {},
   "outputs": [],
   "source": [
    "# While loop: To repeat a block of code again and again, until a condition is satisfied."
   ]
  },
  {
   "cell_type": "code",
   "execution_count": 57,
   "id": "591a14cc-adc1-465d-88ec-243f48dc6760",
   "metadata": {},
   "outputs": [
    {
     "name": "stdout",
     "output_type": "stream",
     "text": [
      "The condition is true\n",
      "Value of a 2 is less than 7 \n",
      "The condition is true\n",
      "Value of a 3 is less than 7 \n",
      "The condition is true\n",
      "Value of a 4 is less than 7 \n",
      "The condition is true\n",
      "Value of a 5 is less than 7 \n",
      "The condition is true\n",
      "Value of a 6 is less than 7 \n",
      "Python outside the while loop, so the value of a 7 is equal to or greater than 7\n"
     ]
    }
   ],
   "source": [
    "a = 2\n",
    "\n",
    "while a < 7:\n",
    "    print(\"The condition is true\")\n",
    "    print(f\"Value of a {a} is less than 7 \")\n",
    "    a+=1\n",
    "print(f\"Python outside the while loop, so the value of a {a} is equal to or greater than 7\")"
   ]
  },
  {
   "cell_type": "code",
   "execution_count": 3,
   "id": "b2eebe7c-6513-4fc9-8ed9-45ef0e38a59c",
   "metadata": {},
   "outputs": [
    {
     "name": "stdin",
     "output_type": "stream",
     "text": [
      "Enter the password qaqaa\n"
     ]
    },
    {
     "name": "stdout",
     "output_type": "stream",
     "text": [
      "WRONG Password!!! Access Denied!!!\n",
      "Enter correct Password again\n",
      "2 attempts left!!\n"
     ]
    },
    {
     "name": "stdin",
     "output_type": "stream",
     "text": [
      "Enter the Password:  Petroleum\n"
     ]
    },
    {
     "name": "stdout",
     "output_type": "stream",
     "text": [
      "WRONG Password!!! Access Denied!!!\n",
      "Enter correct Password again\n",
      "1 attempts left!!\n"
     ]
    },
    {
     "name": "stdin",
     "output_type": "stream",
     "text": [
      "Enter the Password:  q\n"
     ]
    },
    {
     "name": "stdout",
     "output_type": "stream",
     "text": [
      "WRONG Password!!! Access Denied!!!\n",
      "Enter correct Password again\n",
      "0 attempts left!!\n",
      "Access DENIED!!! Try again in 30 mins\n"
     ]
    }
   ],
   "source": [
    "Password = input(\"Enter the password\")\n",
    "\n",
    "i = 0\n",
    "while (Password != \"Petroleum\") and (i<3):\n",
    "    print(\"WRONG Password!!! Access Denied!!!\\nEnter correct Password again\")\n",
    "    print(f\"{3-i-1} attempts left!!\")\n",
    "    i+=1\n",
    "    if i==3:\n",
    "        print(\"Access DENIED!!! Try again in 30 mins\")\n",
    "        break\n",
    "    Passowrd = input(\"Enter the Password: \")\n",
    "\n",
    "\n",
    "else:\n",
    "    print(\"Congratulation, you have entered the correct password!!!\\nAccess Granted\")"
   ]
  },
  {
   "cell_type": "code",
   "execution_count": 5,
   "id": "ae7173ac-a899-4daa-b18c-feb6adbc759e",
   "metadata": {},
   "outputs": [
    {
     "name": "stdin",
     "output_type": "stream",
     "text": [
      "Enter the password qawder\n"
     ]
    },
    {
     "name": "stdout",
     "output_type": "stream",
     "text": [
      "WRONG Password!!! Access Denied!!!\n",
      "Enter correct Password again\n",
      "2 attempts left!!\n"
     ]
    },
    {
     "name": "stdin",
     "output_type": "stream",
     "text": [
      "Enter the Password:  Petroleum\n"
     ]
    },
    {
     "name": "stdout",
     "output_type": "stream",
     "text": [
      "WRONG Password!!! Access Denied!!!\n",
      "Enter correct Password again\n",
      "1 attempts left!!\n"
     ]
    },
    {
     "name": "stdin",
     "output_type": "stream",
     "text": [
      "Enter the Password:  qqqqq\n"
     ]
    },
    {
     "name": "stdout",
     "output_type": "stream",
     "text": [
      "WRONG Password!!! Access Denied!!!\n",
      "Enter correct Password again\n",
      "0 attempts left!!\n",
      "Access DENIED!!! Try again in 30 mins\n"
     ]
    }
   ],
   "source": [
    "Password = input(\"Enter the password\")\n",
    "\n",
    "i = 0\n",
    "while (Password != \"Petroleum\") and (i<3):\n",
    "    print(\"WRONG Password!!! Access Denied!!!\\nEnter correct Password again\")\n",
    "    print(f\"{3-i-1} attempts left!!\")\n",
    "    i+=1\n",
    "    if i==3:\n",
    "        print(\"Access DENIED!!! Try again in 30 mins\")\n",
    "        break\n",
    "    Passowrd = input(\"Enter the Password: \")\n",
    "\n",
    "\n",
    "else:\n",
    "    print(\"Congratulation, you have entered the correct password!!!\\nAccess Granted\")"
   ]
  },
  {
   "cell_type": "markdown",
   "id": "e85150d3-51d9-499f-af96-e15c289f6e14",
   "metadata": {},
   "source": [
    "## Break statement: For breaking the loop prematurely\n",
    "# we can break an infinite loop if some condition hold true"
   ]
  },
  {
   "cell_type": "code",
   "execution_count": 17,
   "id": "a67f51e0-ec3c-4de8-906a-1155fdc4dec7",
   "metadata": {},
   "outputs": [
    {
     "name": "stdout",
     "output_type": "stream",
     "text": [
      "1\n",
      "2\n",
      "3\n"
     ]
    }
   ],
   "source": [
    "x = 0\n",
    "\n",
    "while x<7:\n",
    "    x+=1\n",
    "    if x==4:\n",
    "        break\n",
    "    print(x)"
   ]
  },
  {
   "cell_type": "code",
   "execution_count": 25,
   "id": "5f5e2178-02f0-4084-b817-d9175a308325",
   "metadata": {},
   "outputs": [],
   "source": [
    "y=7\n",
    "\n",
    "while y<10:\n",
    "    y+=1\n",
    "    if y==8:\n",
    "        break\n",
    "    print(y)\n",
    "    "
   ]
  },
  {
   "cell_type": "code",
   "execution_count": 29,
   "id": "0c3c0d5b-8ef9-4e8c-be63-6b42b3df39cd",
   "metadata": {},
   "outputs": [
    {
     "name": "stdout",
     "output_type": "stream",
     "text": [
      "Formation pressure is 1500 psi.\n",
      "Formation pressure is 2000 psi.\n",
      "Formation pressure is 2500 psi.\n",
      "Formation pressure is 3000 psi.\n",
      "Formation pressure is 3500 psi.\n",
      "Formation pressure is 4000 psi.\n",
      "Formation pressure is 4500 psi.\n",
      "Pressure reached the maximum value of 5000 psi, so stopping the process\n",
      "Process Finished\n"
     ]
    }
   ],
   "source": [
    "pressure = 1500\n",
    "while True:\n",
    "    print(f\"Formation pressure is {pressure} psi.\")\n",
    "    pressure+=500\n",
    "    if pressure == 5000:\n",
    "        print(\"Pressure reached the maximum value of 5000 psi, so stopping the process\")\n",
    "        break\n",
    "\n",
    "print(\"Process Finished\")"
   ]
  },
  {
   "cell_type": "code",
   "execution_count": 31,
   "id": "3c5ed6a4-dfff-4dd1-8294-471bbcfdd36e",
   "metadata": {},
   "outputs": [],
   "source": [
    "pressures = [2300,3200,232,5000,5200]"
   ]
  },
  {
   "cell_type": "code",
   "execution_count": 33,
   "id": "53812703-c207-433f-b8a2-3d80750fd24d",
   "metadata": {},
   "outputs": [],
   "source": [
    "pressures.sort()"
   ]
  },
  {
   "cell_type": "code",
   "execution_count": 35,
   "id": "7281eb8a-3c0e-4252-ba5b-8b3d5ca13897",
   "metadata": {},
   "outputs": [
    {
     "data": {
      "text/plain": [
       "[232, 2300, 3200, 5000, 5200]"
      ]
     },
     "execution_count": 35,
     "metadata": {},
     "output_type": "execute_result"
    }
   ],
   "source": [
    "pressures"
   ]
  },
  {
   "cell_type": "code",
   "execution_count": 43,
   "id": "c10c6eb6-afbf-46ac-9184-a844857abd6d",
   "metadata": {},
   "outputs": [
    {
     "name": "stdout",
     "output_type": "stream",
     "text": [
      "232\n",
      "2300\n",
      "Max pressure reached, breaking for loop!\n",
      "Pressures executed!\n"
     ]
    }
   ],
   "source": [
    "for i in pressures:\n",
    "    if i>=3000:\n",
    "        print(\"Max pressure reached, breaking for loop!\")\n",
    "        break\n",
    "\n",
    "    print(i)\n",
    "    \n",
    "\n",
    "print(\"Pressures executed!\")"
   ]
  },
  {
   "cell_type": "markdown",
   "id": "34dd1d39-6e57-43ff-86ed-fee93fba28bd",
   "metadata": {},
   "source": [
    "## Continue to jump back to top of loop rather than stopping it completely\n",
    "\n",
    "- Stop the current iteration and continue with the next iteration\n",
    "\n",
    "## Break: Break the loop, no execution of loop at all\n",
    "## Continue: Stop current iteration, but next iteration will go on, anything written below continue is not executed"
   ]
  },
  {
   "cell_type": "code",
   "execution_count": 63,
   "id": "0d534144-3545-4b9c-8d65-74c38df73bfb",
   "metadata": {},
   "outputs": [
    {
     "name": "stdout",
     "output_type": "stream",
     "text": [
      "Formation pressure is 3500 psi.\n",
      "Formation pressure is 3600 psi.\n",
      "Formation pressure is 3600 psi.\n",
      "Formation pressure is 3700 psi.\n",
      "Formation pressure is 3700 psi.\n",
      "Formation pressure is 3800 psi.\n",
      "Formation pressure is 3800 psi.\n",
      "Formation pressure is 3900 psi.\n",
      "Formation pressure is 3900 psi.\n",
      "SKIPPING 4000 psi.\n",
      "Formation pressure is 4000 psi.\n",
      "Formation pressure is 4100 psi.\n",
      "Formation pressure is 4100 psi.\n",
      "Formation pressure is 4200 psi.\n",
      "Formation pressure is 4200 psi.\n",
      "Formation pressure is 4300 psi.\n",
      "Formation pressure is 4300 psi.\n",
      "Formation pressure is 4400 psi.\n",
      "Formation pressure is 4400 psi.\n",
      "Formation pressure is 4500 psi.\n",
      "Formation pressure is 4500 psi.\n",
      "Formation pressure is 4600 psi.\n",
      "Formation pressure is 4600 psi.\n",
      "Formation pressure is 4700 psi.\n",
      "Formation pressure is 4700 psi.\n",
      "Formation pressure is 4800 psi.\n",
      "Formation pressure is 4800 psi.\n",
      "Formation pressure is 4900 psi.\n",
      "Formation pressure is 4900 psi.\n",
      "Formation pressure is 5000 psi.\n",
      "Pressure reached the maximum value of 5000 psi, so stopping the process\n",
      "Process Finished\n"
     ]
    }
   ],
   "source": [
    "pressure = 3500\n",
    "while True:\n",
    "    print(f\"Formation pressure is {pressure} psi.\")\n",
    "    pressure+=100\n",
    "    if pressure == 4000:\n",
    "        print(\"SKIPPING 4000 psi.\")\n",
    "        continue\n",
    "        \n",
    "    print(f\"Formation pressure is {pressure} psi.\")\n",
    "    if pressure == 5000:\n",
    "        print(\"Pressure reached the maximum value of 5000 psi, so stopping the process\")\n",
    "        break\n",
    "\n",
    "print(\"Process Finished\")"
   ]
  },
  {
   "cell_type": "code",
   "execution_count": 59,
   "id": "6b7168d7-eff6-46c2-949e-568c22969aa9",
   "metadata": {},
   "outputs": [
    {
     "name": "stdout",
     "output_type": "stream",
     "text": [
      "0\n",
      "1\n",
      "2\n",
      "3\n",
      "Skipping 4\n",
      "5\n",
      "6\n"
     ]
    }
   ],
   "source": [
    "for i in range(7):\n",
    "    if i==4:\n",
    "        print(\"Skipping 4\")\n",
    "        continue\n",
    "    print(i)"
   ]
  },
  {
   "cell_type": "code",
   "execution_count": 73,
   "id": "d1595ead-e771-46bc-9898-f598aae48d58",
   "metadata": {},
   "outputs": [
    {
     "name": "stdout",
     "output_type": "stream",
     "text": [
      "$   \n",
      "$   $   \n",
      "$   $   $   \n",
      "$   $   $   $   \n",
      "$   $   $   $   $   \n",
      "$   $   $   $   $   $   \n",
      "$   $   $   $   $   $   $   \n"
     ]
    }
   ],
   "source": [
    "for i in range(0,7):\n",
    "    for j in range(0,i+1):\n",
    "        print(\"$\", end=\"   \")\n",
    "    print('\\r')"
   ]
  },
  {
   "cell_type": "code",
   "execution_count": null,
   "id": "1d414452-be61-430c-a3ed-019d26170aeb",
   "metadata": {},
   "outputs": [],
   "source": []
  }
 ],
 "metadata": {
  "kernelspec": {
   "display_name": "Python 3 (ipykernel)",
   "language": "python",
   "name": "python3"
  },
  "language_info": {
   "codemirror_mode": {
    "name": "ipython",
    "version": 3
   },
   "file_extension": ".py",
   "mimetype": "text/x-python",
   "name": "python",
   "nbconvert_exporter": "python",
   "pygments_lexer": "ipython3",
   "version": "3.12.4"
  }
 },
 "nbformat": 4,
 "nbformat_minor": 5
}
