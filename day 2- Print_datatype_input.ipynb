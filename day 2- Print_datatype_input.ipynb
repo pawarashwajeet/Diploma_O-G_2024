{
 "cells": [
  {
   "cell_type": "code",
   "execution_count": null,
   "id": "3d652334-33bf-40fa-aa81-4dcb34345632",
   "metadata": {},
   "outputs": [],
   "source": [
    "print(\"Hello World\")"
   ]
  },
  {
   "cell_type": "code",
   "execution_count": 5,
   "id": "1dabee91-009c-46ce-bb84-42e8b23f9db8",
   "metadata": {},
   "outputs": [
    {
     "name": "stdin",
     "output_type": "stream",
     "text": [
      "Formation porosity is(in fraction):  0.25\n",
      "Formation permeability is mD:  37\n",
      "Formation water saturation is:  54\n",
      "Formation lithology is:  LST\n"
     ]
    }
   ],
   "source": [
    "porosity = float(input(\"Formation porosity is(in fraction): \"))\n",
    "permeability = float(input(\"Formation permeability is mD: \"))\n",
    "water_saturation = float(input(\"Formation water saturation is: \"))\n",
    "lithology = str(input(\"Formation lithology is: \"))"
   ]
  },
  {
   "cell_type": "code",
   "execution_count": 13,
   "id": "006d0dfc-130a-41c2-ab98-c871a27b245b",
   "metadata": {},
   "outputs": [
    {
     "name": "stdin",
     "output_type": "stream",
     "text": [
      "Formation porosity is(in fraction):  .25\n",
      "Formation permeability is mD:  37\n",
      "Formation water saturation is:  54\n",
      "Formation lithology is:  LST\n"
     ]
    },
    {
     "name": "stdout",
     "output_type": "stream",
     "text": [
      "=======================================\n",
      "The formation porosity is 0.25.\n",
      "The formation permeability is 37.0 mD.\n",
      "The formation water saturation is 54.0 %.\n",
      "The formation lithology is LST.\n"
     ]
    }
   ],
   "source": [
    "porosity = float(input(\"Formation porosity is(in fraction): \"))\n",
    "permeability = float(input(\"Formation permeability is mD: \"))\n",
    "water_saturation = float(input(\"Formation water saturation is: \"))\n",
    "lithology = str(input(\"Formation lithology is: \"))\n",
    "print(\"=======================================\")\n",
    "print(f\"The formation porosity is {porosity}.\\nThe formation permeability is {permeability} mD.\\nThe formation water saturation is {water_saturation} %.\\nThe formation lithology is {lithology}.\")"
   ]
  },
  {
   "cell_type": "code",
   "execution_count": null,
   "id": "f6e35370-5496-43ff-9ed7-681617becf4a",
   "metadata": {},
   "outputs": [],
   "source": []
  }
 ],
 "metadata": {
  "kernelspec": {
   "display_name": "Python 3 (ipykernel)",
   "language": "python",
   "name": "python3"
  },
  "language_info": {
   "codemirror_mode": {
    "name": "ipython",
    "version": 3
   },
   "file_extension": ".py",
   "mimetype": "text/x-python",
   "name": "python",
   "nbconvert_exporter": "python",
   "pygments_lexer": "ipython3",
   "version": "3.12.4"
  }
 },
 "nbformat": 4,
 "nbformat_minor": 5
}
