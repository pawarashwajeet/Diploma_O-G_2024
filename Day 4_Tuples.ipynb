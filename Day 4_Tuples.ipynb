{
 "cells": [
  {
   "cell_type": "code",
   "execution_count": 1,
   "id": "4073b3c4-f71a-4909-a464-9c46408f6c24",
   "metadata": {},
   "outputs": [],
   "source": [
    "##DATA STRUCTURES\n",
    "##1. Tuples\n"
   ]
  },
  {
   "cell_type": "code",
   "execution_count": 3,
   "id": "0722ed1b-596d-4f33-a38f-6e2e53920dce",
   "metadata": {},
   "outputs": [],
   "source": [
    "##Range: Generate Data, "
   ]
  },
  {
   "cell_type": "code",
   "execution_count": 5,
   "id": "a2105228-1301-4cf7-aa56-dec4a05e8e96",
   "metadata": {},
   "outputs": [
    {
     "data": {
      "text/plain": [
       "range(0, 10)"
      ]
     },
     "execution_count": 5,
     "metadata": {},
     "output_type": "execute_result"
    }
   ],
   "source": [
    "range(0,10)"
   ]
  },
  {
   "cell_type": "code",
   "execution_count": 9,
   "id": "20b3cfd0-ec9b-45e7-b98e-f498d850864f",
   "metadata": {},
   "outputs": [
    {
     "data": {
      "text/plain": [
       "[0,\n",
       " 1,\n",
       " 2,\n",
       " 3,\n",
       " 4,\n",
       " 5,\n",
       " 6,\n",
       " 7,\n",
       " 8,\n",
       " 9,\n",
       " 10,\n",
       " 11,\n",
       " 12,\n",
       " 13,\n",
       " 14,\n",
       " 15,\n",
       " 16,\n",
       " 17,\n",
       " 18,\n",
       " 19,\n",
       " 20,\n",
       " 21,\n",
       " 22,\n",
       " 23,\n",
       " 24,\n",
       " 25,\n",
       " 26,\n",
       " 27,\n",
       " 28,\n",
       " 29,\n",
       " 30,\n",
       " 31,\n",
       " 32,\n",
       " 33,\n",
       " 34,\n",
       " 35,\n",
       " 36,\n",
       " 37,\n",
       " 38,\n",
       " 39,\n",
       " 40,\n",
       " 41,\n",
       " 42,\n",
       " 43,\n",
       " 44,\n",
       " 45,\n",
       " 46,\n",
       " 47,\n",
       " 48,\n",
       " 49,\n",
       " 50,\n",
       " 51,\n",
       " 52,\n",
       " 53,\n",
       " 54,\n",
       " 55,\n",
       " 56,\n",
       " 57,\n",
       " 58,\n",
       " 59,\n",
       " 60,\n",
       " 61,\n",
       " 62,\n",
       " 63,\n",
       " 64,\n",
       " 65,\n",
       " 66,\n",
       " 67,\n",
       " 68,\n",
       " 69,\n",
       " 70,\n",
       " 71,\n",
       " 72,\n",
       " 73,\n",
       " 74,\n",
       " 75,\n",
       " 76,\n",
       " 77,\n",
       " 78,\n",
       " 79,\n",
       " 80,\n",
       " 81,\n",
       " 82,\n",
       " 83,\n",
       " 84,\n",
       " 85,\n",
       " 86,\n",
       " 87,\n",
       " 88,\n",
       " 89,\n",
       " 90,\n",
       " 91,\n",
       " 92,\n",
       " 93,\n",
       " 94,\n",
       " 95,\n",
       " 96,\n",
       " 97,\n",
       " 98,\n",
       " 99,\n",
       " 100]"
      ]
     },
     "execution_count": 9,
     "metadata": {},
     "output_type": "execute_result"
    }
   ],
   "source": [
    "list(range(0,101))"
   ]
  },
  {
   "cell_type": "code",
   "execution_count": 11,
   "id": "a5d96609-5a29-432b-bf60-e63621e4ddfb",
   "metadata": {},
   "outputs": [
    {
     "data": {
      "text/plain": [
       "list[0, 101, 5]"
      ]
     },
     "execution_count": 11,
     "metadata": {},
     "output_type": "execute_result"
    }
   ],
   "source": [
    "list[0,101,5]"
   ]
  },
  {
   "cell_type": "code",
   "execution_count": 13,
   "id": "0bc3c0ac-0313-4386-82ca-4d2837478d84",
   "metadata": {},
   "outputs": [
    {
     "data": {
      "text/plain": [
       "[2,\n",
       " 4,\n",
       " 6,\n",
       " 8,\n",
       " 10,\n",
       " 12,\n",
       " 14,\n",
       " 16,\n",
       " 18,\n",
       " 20,\n",
       " 22,\n",
       " 24,\n",
       " 26,\n",
       " 28,\n",
       " 30,\n",
       " 32,\n",
       " 34,\n",
       " 36,\n",
       " 38,\n",
       " 40,\n",
       " 42,\n",
       " 44,\n",
       " 46,\n",
       " 48,\n",
       " 50,\n",
       " 52,\n",
       " 54,\n",
       " 56,\n",
       " 58,\n",
       " 60,\n",
       " 62,\n",
       " 64,\n",
       " 66,\n",
       " 68,\n",
       " 70,\n",
       " 72,\n",
       " 74,\n",
       " 76,\n",
       " 78,\n",
       " 80,\n",
       " 82,\n",
       " 84,\n",
       " 86,\n",
       " 88,\n",
       " 90,\n",
       " 92,\n",
       " 94,\n",
       " 96,\n",
       " 98,\n",
       " 100]"
      ]
     },
     "execution_count": 13,
     "metadata": {},
     "output_type": "execute_result"
    }
   ],
   "source": [
    "list(range(2,101,2))"
   ]
  },
  {
   "cell_type": "code",
   "execution_count": 19,
   "id": "7489177d-8667-45b4-8abd-7b6c4fa35d38",
   "metadata": {},
   "outputs": [
    {
     "name": "stdin",
     "output_type": "stream",
     "text": [
      "Lower bound:  1\n",
      "Upper bound:  100\n",
      "Step size:  3\n"
     ]
    },
    {
     "data": {
      "text/plain": [
       "[1,\n",
       " 4,\n",
       " 7,\n",
       " 10,\n",
       " 13,\n",
       " 16,\n",
       " 19,\n",
       " 22,\n",
       " 25,\n",
       " 28,\n",
       " 31,\n",
       " 34,\n",
       " 37,\n",
       " 40,\n",
       " 43,\n",
       " 46,\n",
       " 49,\n",
       " 52,\n",
       " 55,\n",
       " 58,\n",
       " 61,\n",
       " 64,\n",
       " 67,\n",
       " 70,\n",
       " 73,\n",
       " 76,\n",
       " 79,\n",
       " 82,\n",
       " 85,\n",
       " 88,\n",
       " 91,\n",
       " 94,\n",
       " 97]"
      ]
     },
     "execution_count": 19,
     "metadata": {},
     "output_type": "execute_result"
    }
   ],
   "source": [
    "a = int(input('Lower bound: '))\n",
    "b = int(input('Upper bound: '))\n",
    "c = int(input('Step size: '))\n",
    "list(range(a,b,c))"
   ]
  },
  {
   "cell_type": "code",
   "execution_count": 21,
   "id": "d70b3d4e-f8d6-4ba4-bb30-ab3c23651823",
   "metadata": {},
   "outputs": [],
   "source": [
    "## Tuple are defined using paranthesis"
   ]
  },
  {
   "cell_type": "code",
   "execution_count": 23,
   "id": "dfe888af-ff76-4aed-b483-c61a1b6b74d7",
   "metadata": {},
   "outputs": [],
   "source": [
    "oil_prod = (5000, 4000, 1000, 5600)"
   ]
  },
  {
   "cell_type": "code",
   "execution_count": 25,
   "id": "35ede98b-2cf6-44b3-96fb-263fc2007260",
   "metadata": {},
   "outputs": [
    {
     "data": {
      "text/plain": [
       "(5000, 4000, 1000, 5600)"
      ]
     },
     "execution_count": 25,
     "metadata": {},
     "output_type": "execute_result"
    }
   ],
   "source": [
    "oil_prod"
   ]
  },
  {
   "cell_type": "code",
   "execution_count": 27,
   "id": "8e0cb16d-12a2-4b5e-8f27-fd80d8306e08",
   "metadata": {},
   "outputs": [],
   "source": [
    "perm = (23, 55, 54,'Permeability md')"
   ]
  },
  {
   "cell_type": "code",
   "execution_count": 29,
   "id": "a42df8db-3663-45dc-ade1-8f464d574ad8",
   "metadata": {},
   "outputs": [
    {
     "data": {
      "text/plain": [
       "(23, 55, 54, 'Permeability md')"
      ]
     },
     "execution_count": 29,
     "metadata": {},
     "output_type": "execute_result"
    }
   ],
   "source": [
    "perm"
   ]
  },
  {
   "cell_type": "code",
   "execution_count": 31,
   "id": "ddfe52e5-236b-42c4-a09e-fefc12b20490",
   "metadata": {},
   "outputs": [
    {
     "data": {
      "text/plain": [
       "tuple"
      ]
     },
     "execution_count": 31,
     "metadata": {},
     "output_type": "execute_result"
    }
   ],
   "source": [
    "type(perm)"
   ]
  },
  {
   "cell_type": "code",
   "execution_count": 33,
   "id": "61d9583c-6264-47af-b2fc-a1c7063f2526",
   "metadata": {},
   "outputs": [
    {
     "data": {
      "text/plain": [
       "'Permeability md'"
      ]
     },
     "execution_count": 33,
     "metadata": {},
     "output_type": "execute_result"
    }
   ],
   "source": [
    "perm[3]"
   ]
  },
  {
   "cell_type": "code",
   "execution_count": 37,
   "id": "43002da3-c4c1-420e-8a36-32dfff638da7",
   "metadata": {},
   "outputs": [
    {
     "data": {
      "text/plain": [
       "(5000, 4000, 1000, 5600)"
      ]
     },
     "execution_count": 37,
     "metadata": {},
     "output_type": "execute_result"
    }
   ],
   "source": [
    "oil_prod"
   ]
  },
  {
   "cell_type": "code",
   "execution_count": 39,
   "id": "ae4e366b-b2dc-4c28-b96a-056c879a0a55",
   "metadata": {},
   "outputs": [
    {
     "data": {
      "text/plain": [
       "4000"
      ]
     },
     "execution_count": 39,
     "metadata": {},
     "output_type": "execute_result"
    }
   ],
   "source": [
    "oil_prod[1]"
   ]
  },
  {
   "cell_type": "code",
   "execution_count": 45,
   "id": "07d68526-7c73-4032-83ec-8a677e389bc3",
   "metadata": {},
   "outputs": [],
   "source": [
    "oil_prod = list(oil_prod)"
   ]
  },
  {
   "cell_type": "code",
   "execution_count": 47,
   "id": "5588beb3-6ac9-47a1-85e0-ef4ba7a03978",
   "metadata": {},
   "outputs": [
    {
     "data": {
      "text/plain": [
       "[5000, 4000, 1000, 5600]"
      ]
     },
     "execution_count": 47,
     "metadata": {},
     "output_type": "execute_result"
    }
   ],
   "source": [
    "oil_prod"
   ]
  },
  {
   "cell_type": "code",
   "execution_count": 49,
   "id": "932fc6e3-4f39-45f9-8b51-cb36b1fb6eae",
   "metadata": {},
   "outputs": [
    {
     "data": {
      "text/plain": [
       "4000"
      ]
     },
     "execution_count": 49,
     "metadata": {},
     "output_type": "execute_result"
    }
   ],
   "source": [
    "oil_prod[1]"
   ]
  },
  {
   "cell_type": "code",
   "execution_count": 51,
   "id": "e94e1353-0a0b-42e6-b69e-25cb03830da1",
   "metadata": {},
   "outputs": [],
   "source": [
    "oil_prod[1] = 2200"
   ]
  },
  {
   "cell_type": "code",
   "execution_count": 53,
   "id": "a8357eea-203b-4c2b-83c1-f5c0f4737652",
   "metadata": {},
   "outputs": [
    {
     "data": {
      "text/plain": [
       "[5000, 2200, 1000, 5600]"
      ]
     },
     "execution_count": 53,
     "metadata": {},
     "output_type": "execute_result"
    }
   ],
   "source": [
    "oil_prod"
   ]
  },
  {
   "cell_type": "code",
   "execution_count": 57,
   "id": "21ea9c81-d7e6-466b-aa0b-f6ead5102a19",
   "metadata": {},
   "outputs": [],
   "source": [
    "oil_prod = tuple(oil_prod)"
   ]
  },
  {
   "cell_type": "code",
   "execution_count": 59,
   "id": "6890615b-603c-43a5-97af-34c05b8e72cd",
   "metadata": {},
   "outputs": [
    {
     "data": {
      "text/plain": [
       "(5000, 2200, 1000, 5600)"
      ]
     },
     "execution_count": 59,
     "metadata": {},
     "output_type": "execute_result"
    }
   ],
   "source": [
    "oil_prod"
   ]
  },
  {
   "cell_type": "code",
   "execution_count": 65,
   "id": "c3740ad8-4fbe-455e-90c2-3629ec1fe97f",
   "metadata": {},
   "outputs": [],
   "source": [
    "oilprd = oil_prod"
   ]
  },
  {
   "cell_type": "code",
   "execution_count": 67,
   "id": "f71adbe7-2b77-4b6d-90c1-fd1e4566d37c",
   "metadata": {},
   "outputs": [
    {
     "data": {
      "text/plain": [
       "(5000, 2200, 1000, 5600)"
      ]
     },
     "execution_count": 67,
     "metadata": {},
     "output_type": "execute_result"
    }
   ],
   "source": [
    "oilprd"
   ]
  },
  {
   "cell_type": "code",
   "execution_count": 69,
   "id": "0c2e5886-6633-4bc9-8342-214a9fbb9381",
   "metadata": {},
   "outputs": [],
   "source": [
    "oilprd_list = list(oilprd)"
   ]
  },
  {
   "cell_type": "code",
   "execution_count": 71,
   "id": "03f10dc5-4678-44c7-b9f8-2a9b26a8d412",
   "metadata": {},
   "outputs": [
    {
     "data": {
      "text/plain": [
       "[5000, 2200, 1000, 5600]"
      ]
     },
     "execution_count": 71,
     "metadata": {},
     "output_type": "execute_result"
    }
   ],
   "source": [
    "oilprd_list"
   ]
  },
  {
   "cell_type": "code",
   "execution_count": 73,
   "id": "9d0ce3f7-2003-47fd-99ef-b5f6d8d6955e",
   "metadata": {},
   "outputs": [],
   "source": [
    "oilprd_list[1] = 6000"
   ]
  },
  {
   "cell_type": "code",
   "execution_count": 75,
   "id": "1b423c70-2e97-4d0a-86b1-45d55f1853f4",
   "metadata": {},
   "outputs": [
    {
     "data": {
      "text/plain": [
       "[5000, 6000, 1000, 5600]"
      ]
     },
     "execution_count": 75,
     "metadata": {},
     "output_type": "execute_result"
    }
   ],
   "source": [
    "oilprd_list"
   ]
  },
  {
   "cell_type": "code",
   "execution_count": 77,
   "id": "c03a4838-67eb-4ea4-8f2f-e1fb497f710a",
   "metadata": {},
   "outputs": [],
   "source": [
    "oilprd = tuple(oilprd_list)"
   ]
  },
  {
   "cell_type": "code",
   "execution_count": 79,
   "id": "176f2700-f755-4872-8d50-5ee45bb9d4d1",
   "metadata": {},
   "outputs": [
    {
     "data": {
      "text/plain": [
       "(5000, 6000, 1000, 5600)"
      ]
     },
     "execution_count": 79,
     "metadata": {},
     "output_type": "execute_result"
    }
   ],
   "source": [
    "oilprd"
   ]
  },
  {
   "cell_type": "code",
   "execution_count": 81,
   "id": "30beeb4d-0d8f-440b-aeec-7713b1f9c915",
   "metadata": {},
   "outputs": [],
   "source": [
    "a = (45,67,0.5,[98,'k','hj'],(89,67,56))"
   ]
  },
  {
   "cell_type": "code",
   "execution_count": 83,
   "id": "abc6aa84-ad19-4803-8ec2-1550fb28ec18",
   "metadata": {},
   "outputs": [
    {
     "data": {
      "text/plain": [
       "(45, 67, 0.5, [98, 'k', 'hj'], (89, 67, 56))"
      ]
     },
     "execution_count": 83,
     "metadata": {},
     "output_type": "execute_result"
    }
   ],
   "source": [
    "a"
   ]
  },
  {
   "cell_type": "code",
   "execution_count": 85,
   "id": "8f053b21-b0d1-46aa-8b21-13abb236588f",
   "metadata": {},
   "outputs": [
    {
     "data": {
      "text/plain": [
       "'k'"
      ]
     },
     "execution_count": 85,
     "metadata": {},
     "output_type": "execute_result"
    }
   ],
   "source": [
    "a[3][1]"
   ]
  },
  {
   "cell_type": "code",
   "execution_count": 1,
   "id": "a6259c8c-0488-401e-a1b1-1182f674758b",
   "metadata": {},
   "outputs": [],
   "source": [
    "data = \"\"\"Sand control\n",
    "Jump to navigationJump to search\n",
    "Conventional well completions in soft formations (the compressive strength is less than 1,000 psi)[1] commonly produce formation sand or fines with fluids. These formations are usually geologically young (Tertiary age) and shallow, and they have little or no natural cementation. \"Friable\" and \"Unconsolidated\" are two commonly used terms to describe the nature of the reservoir material.\n",
    "\n",
    "Sand production can plug tubing, casing, flowlines and surface vessels. It can erode equipment that leads to loss of well control or unwanted fluid emissions. Use of properly designed downhole sand exclusion builds filtercake that impairs well productivity[2] eventually terminating inflow often leaving a large volume of recoverable oil just beyond the filtercake[3].\n",
    "\n",
    "In some situations managed purposeful sand production can be less costly and recover more oil than attempting to exclude it. Managed purposeful sand production can stimulate inflow several fold as in the cavity completion techniques[4][5].\n",
    "\n",
    "Produced formation sand has no economic value unless the stimulation of inflow rate and/or recovery is considered.\n",
    "\n",
    "Formation sand production from wells is dealt with daily on a global basis. Volumes of sand can be a few liters to several hundred cubic meters. There is a large assortment of devices available for downhole sand exclusion, inflow management, production equipment, artificial lift, surface separation, and disposal. Decisions around sand production are not purely economic. Regulatory and environmental restrictions have come to play a significant role in the decisions of how sand production will be handled.luid flow\n",
    "Fluid flow from wells is the consequence of the wellbore pressure being smaller than that in the reservoir. The drag force caused by the flow from large to small pressure is related to the velocity-viscosity product at any point around the well. Hence, when fluids flow toward the wellbore, the tendency is for some of the formation material to flow concurrently with the fluids.[6]\n",
    "\n",
    "In the case of unconsolidated sand reservoirs there is no cementation material of any sort binding the individual sand grains to each other. Sand grains are suspended in the reservoir fluids. In Western Canada heavy oil reservoirs where it has been the practice for over 80 years to perforate casing and induce several hundred cubic meters of near wellbore sand inflow to stimulate rate and recovery, initial sand cut can be as high as 70% in reservoirs with 30% porosity suggesting the entire near wellbore reservoir is flowing into the well. Fortunately the sand cut declines quickly to 1% or less for the remaining life of the well.\n",
    "\n",
    "Restraining forces\n",
    "Opposing the fluid forces are the restraining forces that hold the formation sand in place. These consist of:\n",
    "\n",
    "Natural cementation (compressive strength)\n",
    "Friction between sand grains\n",
    "Fluid pressure in the pores of the rock\n",
    "Capillary forces\n",
    "The compressive strength of the rock, the primary restraint, is controlled by intergranular cementation that is a secondary geologic process. As a general rule, old sediments are more consolidated than are younger sediments. Young formations commonly have little cementing material and are referred to as being poorly consolidated. Stated another way, they have low compressive strength. Their compressive strengths are usually less than 1,000 psi and may even be so small that their strengths can not be measured. The frictional forces are related to the confining or overburden stresses. The stress that causes the rock to fail includes the mechanical stress that results from the overburden and the drag forces associated from viscous flow of fluids through the rock matrix. The overburden stress is partially supported by the pore pressure, so the net stress (the cause of rock failure, the effective stress) is the difference between the overburden stress and the pore pressure.\n",
    "\n",
    "Capillary forces can also contribute to sand production; there are numerous examples where sand production occurred when water production began. Sand arches form, on occasion, around the perforations. The questions of when and how arches form are related to:\n",
    "\n",
    "Flow rate\n",
    "Compressive strength of the formation\n",
    "Size of the sand and the perforations\n",
    "Fig. 1 portrays an arch and the balance between viscous and restraining forces. Unfortunately, sand arches are not stable, and their transient behavior cannot be relied upon for controlling sand production.\n",
    "\n",
    "Fig. 1—Geometry of a stable arch surrounding a perforation.\n",
    "Fig. 1—Geometry of a stable arch surrounding a perforation.\n",
    "\n",
    "Consequences of sand production\n",
    "The consequences of sand production are often detrimental to the short-long-term productivity of the well. Although some wells routinely experience manageable sand production, these are the exception rather than the rule. Sand production and its management over the life of the well is not an attractive situation but is often necessary to extract the resource. Knowing the conditions that cause sand inflow and the possible consequences can inform an appropriate strategy to safely extract as much of the resource as possible.\n",
    "\n",
    "Accumulation downhole\n",
    "Sand transport in well tubulars is dependent on the inside diameter of the pipe, fluid viscosity, changes in inside pipe diameter, changes in direction of flow, and whether the pipe is horizontal or vertical.\n",
    "\n",
    "The practice of landing tubing several joints above the perforations exposes the well to covering of the perforations by sand inflow if the fluid velocity in the casing is too low to transport sand to the tubing even though well production would generate a fluid velocity in the tubing high enough to transport sand. The risk in landing the tubing at the bottom of the perforations is sand will accumulate to the bottom of the tubing which could eventually constrict production entering the tubing as well as sand blasting perforations in the tubing and/or the tubing becoming stuck in the casing due to sand build up in the casing-tubing annulus.\n",
    "\n",
    "If the production velocity in well tubulars is insufficient to transport sand to the surface, it will begin to fill the inside of the casing. Eventually, the producing interval may be completely covered with sand. In this case, the production rate will decline until the well becomes “sanded up” and production ceases. In situations like this, remedial operations are required to clean out the well and restore productivity.\n",
    "\n",
    "A variety of equipment and practices are used to extract accumulated solids in wellbores. Which one to use depends on factors such as what is the nature of the material being removed, will the well support circulation or not, is the formation sensitive to a particular fluid, can the extraction be performed on a live well, the anticipated volume of solids to be removed, can solid inflow be expected to stop during the cleanout, cost, and regulatory requirements.\n",
    "\n",
    "One cleanout procedure is to \"blow down\" the well. For example, wells in the Bowdoin gas field of northern Montana build up accumulations of clayey-silty mud. When flowrate has diminished the operator opens a blowdown valve dropping the backpressure to atmospheric pressure. This is sufficient to flow to surface the material that resembles toothpaste being squeezed from a tube. When the material no longer issues from the blowdown valve the well is placed back on production. Other operators have reported purposely flowing newly perforated wells for brief periods at near maximum drawdown to removed the crushed material in a perforation tunnel or to remove a near wellbore accumulation of fines if skin damage appears to be developing. Engineering is required to ensure piping and equipment are adequate for the procedure to be performed safely and to effectively receive and separate the solids at surface as well as to avoid undesirable effects occurring in the reservoir.\n",
    "\n",
    "\"Bailers\" can be run on wireline, sandline or tubing. Some are run in tubing, others in casing after the tubing has been removed. Some operate by reciprocating the bailer until it is considered to be full, then it is pulled from the well, emptied, and run back into the well. Some operate on a pressure differential between the inside of the tubing and the fluid head in the annulus. Sand can compact and be very difficult to bail. In these instances a chisel point is attached to the bailer to break up compacted sand. Another technique is to introduce a sand dispersion chemical. The chemical rapidly interacts with the individual sand grains causing them to repel each other, fluidizing the sand which makes it easier for the bailer to fill up.\n",
    "\n",
    "Circulating solids out of a well using the production tubing or coiled tubing inside production tubing is effective in some situations. In situations where only partial returns are achieved some of the solids may return into the reservoir. If the well is borderline capable of circulation, the addition of sand to the return fluid can increase the return fluid density enough to cause circulation fluid to leak off into the reservoir slowing the upward velocity in the tubing to the point where sand will stop moving to surface and possibly bridge off in the tubing. Fluids, gases, and a combination of fluids and gases are used as circulating media. In some cases when coil tubing and a gas are used, a small volume of liquid in the form of water and surfactant are injected into the gas stream to create a foam to help lift solids. The foam is susceptible to dilution leading to rapid breakdown from produced water in the wellbore. Other forms of foam are more robust and long lived. Coil tubing circulation is susceptible to being sanded in the tubing should the upward flow of sand laden fluid be slowed or interrupted.\n",
    "\n",
    "Another class of wellbore sand removal equipment is types of artificial lift that are modified to be run into the well to either cleanout the wellbore or extract a volume of near wellbore sand.\n",
    "\n",
    "The \"Pump-to-Surface\" tool consists of plunger, barrel and valves with very large diameters and a tolerance for solids. It is run into the well using the tubing string. When fill is encountered it is anchored, then the service rig strokes the tubing. Sand laden fluid travels up the inside of the tubing to a tank at surface. The anchor is unset and the tool moved downhole and anchor is reset as many times as is needed to complete the cleanout. A kelly shaft is attached to the plunger giving the assembly the strength to be slowly rotated to turn a bit at the bottom of the assembly if the fill is densely compacted preventing its extraction.\n",
    "\n",
    "Jet pumps[7][8] are another artificial lift that have been successfully adapted to remove solids accumulations from wellbores. They can be run using concentric coil tubing, concentric jointed tubing, and single string jointed tubing. Bits and power fluid by-pass flushes are add-ons for breaking up hard compacted solids.\n",
    "\n",
    "\n",
    "Accumulation in surface equipment\n",
    "If the production velocity is sufficient to transport sand to the surface, the sand may still become trapped in the separator, heater treater, or production flowline. If enough sand becomes trapped in one of these areas, cleaning will be required to allow for efficient production of the well. Traditionally, to restore production, the well must be shut in, the surface equipment opened, and the sand manually removed. In addition to the cleanout cost, the cost of the deferred production must be considered. However, new solutions have been developed to move away from this traditional uneconomical and unsafe production method and enable unrestricted production of sand/solids using topsides sand management solutions, such as cyclonic desanders. With current technology sand and solids can be removed directly from the wellhead to ensure sand do not enter the production separator [9]. This approach ensures no choking back of wells is needed and that manual sand removal becomes a solution of the past.\n",
    "\n",
    "Erosion of downhole and surface equipment\n",
    "If fluids are in turbulent flow, such sand-laden fluids are highly erosive. Fig. 2 is a photograph of a section of eroded well screen exposed to a perforation that was producing sand. Fig. 3 shows a surface choke that failed because of erosion. If the erosion is severe or occurs long enough, complete failure of surface and/or downhole equipment may occur, resulting in critical safety and environmental problems as well as deferred production.\n",
    "\n",
    "Fig. 2—Wire-wrapped screen failure owing to erosion by formation sand(courtesy of Baker Oil Tools).\n",
    "Fig. 2—Wire-wrapped screen failure owing to erosion by formation sand(courtesy of Baker Oil Tools).\n",
    "\n",
    " \n",
    "Fig. 3—Surface choke failure owing to erosion by formation sand(Courtesy of Baker Oil Tools).\n",
    "Fig. 3—Surface choke failure owing to erosion by formation sand(Courtesy of Baker Oil Tools).\n",
    "\n",
    "Collapse of the formation\n",
    "Collapse of the formation around the well occurs when large volumes of sand are produced. Apparently, when a void is formed and becomes large enough to inadequately support overlying formations, collapse occurs because of a lack of material to provide support. When the collapse occurs, the sand grains rearrange themselves to create a lower permeability than originally existed. This is especially true for formation sand that has a high clay content or wide range of grain sizes. For a formation with a narrow grain-size distribution (well sorted) and/or very little clay, the rearrangement of formation sand causes a decrease in permeability that is not as severe. In the case of the overlying shale collapsing, complete loss of productivity is probable. In most cases, continued long-term production of formation sand usually decreases the well’s productivity and ultimate recovery.\n",
    "\n",
    "The collapse of the formation particularly becomes critical to well productivity if the formation material fills the perforation tunnels. Even a small amount of formation material filling the perforation tunnels will lead to a significant increase in pressure drop across the formation near the wellbore for a given flow rate. Considering these consequences of sand production, the desired solution to sand production is to control it downhole.\n",
    "\n",
    "Compaction of the reservoir rock may occur as a result of reduced pore pressure leading to surface subsidence. Examples of subsidence, caused by withdrawals of fluids and reduced pore pressure, are found in:\n",
    "\n",
    "Venezuela\n",
    "Long Beach, California\n",
    "Gulf Coast of Texas\n",
    "Ekofisk Field in the central North Sea, where the platforms sank about 10 ft\n",
    "In Western Canadian heavy oil unconsolidated sand reservoirs where oil will flow at reservoir temperature and pressure (these are not the bitumen reservoirs) wells are perforated with 25mm diameter entry holes and operated at maximum drawdown to extract several hundred cubic meters of near wellbore sand. In reservoir with 30% porosity initial sand cuts have been observed as high as 70% suggesting the entire near wellbore reservoir is entering the well. Sand cut rapidly diminishes to less than 1% for the life of the well with no further sand slugging episodes. Oil rate is 4 to 6 times greater than theory predicts as a result of the sand extraction.\n",
    "\n",
    "Casing collapse or buckling in vertical wells is extremely rare and there has been no evidence of the overlying formation collapsing or of subsidence.\n",
    "\n",
    "Some wells that penetrate the zone at greater than 35 degree angle experience casing collapse or buckling after near wellbore sand extraction so few wells are drilled at more than 35 degree angles. These wells tend to expel more sand and for a longer period than vertical wells.\n",
    "\n",
    "\n",
    "==References==\n",
    "\n",
    "\n",
    " Agustawijaya, Didi. (2007). The Uniaxial Compressive Strength of Soft Rock. Civil Engineering Dimension. 9.\n",
    " Mahmoudi, M., Fattahpour, V., Nouri, A., & Leitch, M. (2017, February 15). An Experimental Evaluation of Pore Plugging and Permeability Reduction Near SAGD Sand Control Liners. Society of Petroleum Engineers. doi:10.2118/184999-MS\n",
    " Cabeen, W. R., & Bemis, E. G. (1949, January 1). Field Performance of Sand-control Liners in California. American Petroleum Institute.\n",
    " Vaziri, H. H., Lemoine, E., Palmer, I. D., McLennan, J., & Islam, R. (2000, January 1). How Can Sand Production Yield a Several-Fold Increase in Productivity: Experimental and Field Data. Society of Petroleum Engineers. doi:10.2118/63235-MS\n",
    " Palmer, I. D., McLennan, J. D., & Vaziri, H. H. (2000, January 1). Cavity-Like Completions in Weak Sands. Society of Petroleum Engineers. doi:10.2118/58719-MS\n",
    " Penberthy, W.L. Jr. and Shaughnessy, C.M. 1992. Sand Control, Vol. 1, 11-17. Richardson, Texas: Monograph Series, SPE.\n",
    " Li, J., Crabtree, A. R., Kutchel, M., Diaz, J. D., Reyes, W., Dugarte, R., & Pena, L. (2008, January 1). Sand/Well Vacuuming Technology with Concentric Coiled Tubing: Best Practices and Lessons Learned from Over 600 Operations. Society of Petroleum Engineers. doi:10.2118/115303-MS\n",
    " https://jetliftsystems.ca/jetsweep-cleanouts/\n",
    " https://fourphase.com/improving-production/continuous-production/\"\"\""
   ]
  },
  {
   "cell_type": "code",
   "execution_count": 3,
   "id": "e1424123-a977-41c1-b38a-4d7423b482e6",
   "metadata": {},
   "outputs": [
    {
     "data": {
      "text/plain": [
       "'Sand control\\nJump to navigationJump to search\\nConventional well completions in soft formations (the compressive strength is less than 1,000 psi)[1] commonly produce formation sand or fines with fluids. These formations are usually geologically young (Tertiary age) and shallow, and they have little or no natural cementation. \"Friable\" and \"Unconsolidated\" are two commonly used terms to describe the nature of the reservoir material.\\n\\nSand production can plug tubing, casing, flowlines and surface vessels. It can erode equipment that leads to loss of well control or unwanted fluid emissions. Use of properly designed downhole sand exclusion builds filtercake that impairs well productivity[2] eventually terminating inflow often leaving a large volume of recoverable oil just beyond the filtercake[3].\\n\\nIn some situations managed purposeful sand production can be less costly and recover more oil than attempting to exclude it. Managed purposeful sand production can stimulate inflow several fold as in the cavity completion techniques[4][5].\\n\\nProduced formation sand has no economic value unless the stimulation of inflow rate and/or recovery is considered.\\n\\nFormation sand production from wells is dealt with daily on a global basis. Volumes of sand can be a few liters to several hundred cubic meters. There is a large assortment of devices available for downhole sand exclusion, inflow management, production equipment, artificial lift, surface separation, and disposal. Decisions around sand production are not purely economic. Regulatory and environmental restrictions have come to play a significant role in the decisions of how sand production will be handled.luid flow\\nFluid flow from wells is the consequence of the wellbore pressure being smaller than that in the reservoir. The drag force caused by the flow from large to small pressure is related to the velocity-viscosity product at any point around the well. Hence, when fluids flow toward the wellbore, the tendency is for some of the formation material to flow concurrently with the fluids.[6]\\n\\nIn the case of unconsolidated sand reservoirs there is no cementation material of any sort binding the individual sand grains to each other. Sand grains are suspended in the reservoir fluids. In Western Canada heavy oil reservoirs where it has been the practice for over 80 years to perforate casing and induce several hundred cubic meters of near wellbore sand inflow to stimulate rate and recovery, initial sand cut can be as high as 70% in reservoirs with 30% porosity suggesting the entire near wellbore reservoir is flowing into the well. Fortunately the sand cut declines quickly to 1% or less for the remaining life of the well.\\n\\nRestraining forces\\nOpposing the fluid forces are the restraining forces that hold the formation sand in place. These consist of:\\n\\nNatural cementation (compressive strength)\\nFriction between sand grains\\nFluid pressure in the pores of the rock\\nCapillary forces\\nThe compressive strength of the rock, the primary restraint, is controlled by intergranular cementation that is a secondary geologic process. As a general rule, old sediments are more consolidated than are younger sediments. Young formations commonly have little cementing material and are referred to as being poorly consolidated. Stated another way, they have low compressive strength. Their compressive strengths are usually less than 1,000 psi and may even be so small that their strengths can not be measured. The frictional forces are related to the confining or overburden stresses. The stress that causes the rock to fail includes the mechanical stress that results from the overburden and the drag forces associated from viscous flow of fluids through the rock matrix. The overburden stress is partially supported by the pore pressure, so the net stress (the cause of rock failure, the effective stress) is the difference between the overburden stress and the pore pressure.\\n\\nCapillary forces can also contribute to sand production; there are numerous examples where sand production occurred when water production began. Sand arches form, on occasion, around the perforations. The questions of when and how arches form are related to:\\n\\nFlow rate\\nCompressive strength of the formation\\nSize of the sand and the perforations\\nFig. 1 portrays an arch and the balance between viscous and restraining forces. Unfortunately, sand arches are not stable, and their transient behavior cannot be relied upon for controlling sand production.\\n\\nFig. 1—Geometry of a stable arch surrounding a perforation.\\nFig. 1—Geometry of a stable arch surrounding a perforation.\\n\\nConsequences of sand production\\nThe consequences of sand production are often detrimental to the short-long-term productivity of the well. Although some wells routinely experience manageable sand production, these are the exception rather than the rule. Sand production and its management over the life of the well is not an attractive situation but is often necessary to extract the resource. Knowing the conditions that cause sand inflow and the possible consequences can inform an appropriate strategy to safely extract as much of the resource as possible.\\n\\nAccumulation downhole\\nSand transport in well tubulars is dependent on the inside diameter of the pipe, fluid viscosity, changes in inside pipe diameter, changes in direction of flow, and whether the pipe is horizontal or vertical.\\n\\nThe practice of landing tubing several joints above the perforations exposes the well to covering of the perforations by sand inflow if the fluid velocity in the casing is too low to transport sand to the tubing even though well production would generate a fluid velocity in the tubing high enough to transport sand. The risk in landing the tubing at the bottom of the perforations is sand will accumulate to the bottom of the tubing which could eventually constrict production entering the tubing as well as sand blasting perforations in the tubing and/or the tubing becoming stuck in the casing due to sand build up in the casing-tubing annulus.\\n\\nIf the production velocity in well tubulars is insufficient to transport sand to the surface, it will begin to fill the inside of the casing. Eventually, the producing interval may be completely covered with sand. In this case, the production rate will decline until the well becomes “sanded up” and production ceases. In situations like this, remedial operations are required to clean out the well and restore productivity.\\n\\nA variety of equipment and practices are used to extract accumulated solids in wellbores. Which one to use depends on factors such as what is the nature of the material being removed, will the well support circulation or not, is the formation sensitive to a particular fluid, can the extraction be performed on a live well, the anticipated volume of solids to be removed, can solid inflow be expected to stop during the cleanout, cost, and regulatory requirements.\\n\\nOne cleanout procedure is to \"blow down\" the well. For example, wells in the Bowdoin gas field of northern Montana build up accumulations of clayey-silty mud. When flowrate has diminished the operator opens a blowdown valve dropping the backpressure to atmospheric pressure. This is sufficient to flow to surface the material that resembles toothpaste being squeezed from a tube. When the material no longer issues from the blowdown valve the well is placed back on production. Other operators have reported purposely flowing newly perforated wells for brief periods at near maximum drawdown to removed the crushed material in a perforation tunnel or to remove a near wellbore accumulation of fines if skin damage appears to be developing. Engineering is required to ensure piping and equipment are adequate for the procedure to be performed safely and to effectively receive and separate the solids at surface as well as to avoid undesirable effects occurring in the reservoir.\\n\\n\"Bailers\" can be run on wireline, sandline or tubing. Some are run in tubing, others in casing after the tubing has been removed. Some operate by reciprocating the bailer until it is considered to be full, then it is pulled from the well, emptied, and run back into the well. Some operate on a pressure differential between the inside of the tubing and the fluid head in the annulus. Sand can compact and be very difficult to bail. In these instances a chisel point is attached to the bailer to break up compacted sand. Another technique is to introduce a sand dispersion chemical. The chemical rapidly interacts with the individual sand grains causing them to repel each other, fluidizing the sand which makes it easier for the bailer to fill up.\\n\\nCirculating solids out of a well using the production tubing or coiled tubing inside production tubing is effective in some situations. In situations where only partial returns are achieved some of the solids may return into the reservoir. If the well is borderline capable of circulation, the addition of sand to the return fluid can increase the return fluid density enough to cause circulation fluid to leak off into the reservoir slowing the upward velocity in the tubing to the point where sand will stop moving to surface and possibly bridge off in the tubing. Fluids, gases, and a combination of fluids and gases are used as circulating media. In some cases when coil tubing and a gas are used, a small volume of liquid in the form of water and surfactant are injected into the gas stream to create a foam to help lift solids. The foam is susceptible to dilution leading to rapid breakdown from produced water in the wellbore. Other forms of foam are more robust and long lived. Coil tubing circulation is susceptible to being sanded in the tubing should the upward flow of sand laden fluid be slowed or interrupted.\\n\\nAnother class of wellbore sand removal equipment is types of artificial lift that are modified to be run into the well to either cleanout the wellbore or extract a volume of near wellbore sand.\\n\\nThe \"Pump-to-Surface\" tool consists of plunger, barrel and valves with very large diameters and a tolerance for solids. It is run into the well using the tubing string. When fill is encountered it is anchored, then the service rig strokes the tubing. Sand laden fluid travels up the inside of the tubing to a tank at surface. The anchor is unset and the tool moved downhole and anchor is reset as many times as is needed to complete the cleanout. A kelly shaft is attached to the plunger giving the assembly the strength to be slowly rotated to turn a bit at the bottom of the assembly if the fill is densely compacted preventing its extraction.\\n\\nJet pumps[7][8] are another artificial lift that have been successfully adapted to remove solids accumulations from wellbores. They can be run using concentric coil tubing, concentric jointed tubing, and single string jointed tubing. Bits and power fluid by-pass flushes are add-ons for breaking up hard compacted solids.\\n\\n\\nAccumulation in surface equipment\\nIf the production velocity is sufficient to transport sand to the surface, the sand may still become trapped in the separator, heater treater, or production flowline. If enough sand becomes trapped in one of these areas, cleaning will be required to allow for efficient production of the well. Traditionally, to restore production, the well must be shut in, the surface equipment opened, and the sand manually removed. In addition to the cleanout cost, the cost of the deferred production must be considered. However, new solutions have been developed to move away from this traditional uneconomical and unsafe production method and enable unrestricted production of sand/solids using topsides sand management solutions, such as cyclonic desanders. With current technology sand and solids can be removed directly from the wellhead to ensure sand do not enter the production separator [9]. This approach ensures no choking back of wells is needed and that manual sand removal becomes a solution of the past.\\n\\nErosion of downhole and surface equipment\\nIf fluids are in turbulent flow, such sand-laden fluids are highly erosive. Fig. 2 is a photograph of a section of eroded well screen exposed to a perforation that was producing sand. Fig. 3 shows a surface choke that failed because of erosion. If the erosion is severe or occurs long enough, complete failure of surface and/or downhole equipment may occur, resulting in critical safety and environmental problems as well as deferred production.\\n\\nFig. 2—Wire-wrapped screen failure owing to erosion by formation sand(courtesy of Baker Oil Tools).\\nFig. 2—Wire-wrapped screen failure owing to erosion by formation sand(courtesy of Baker Oil Tools).\\n\\n \\nFig. 3—Surface choke failure owing to erosion by formation sand(Courtesy of Baker Oil Tools).\\nFig. 3—Surface choke failure owing to erosion by formation sand(Courtesy of Baker Oil Tools).\\n\\nCollapse of the formation\\nCollapse of the formation around the well occurs when large volumes of sand are produced. Apparently, when a void is formed and becomes large enough to inadequately support overlying formations, collapse occurs because of a lack of material to provide support. When the collapse occurs, the sand grains rearrange themselves to create a lower permeability than originally existed. This is especially true for formation sand that has a high clay content or wide range of grain sizes. For a formation with a narrow grain-size distribution (well sorted) and/or very little clay, the rearrangement of formation sand causes a decrease in permeability that is not as severe. In the case of the overlying shale collapsing, complete loss of productivity is probable. In most cases, continued long-term production of formation sand usually decreases the well’s productivity and ultimate recovery.\\n\\nThe collapse of the formation particularly becomes critical to well productivity if the formation material fills the perforation tunnels. Even a small amount of formation material filling the perforation tunnels will lead to a significant increase in pressure drop across the formation near the wellbore for a given flow rate. Considering these consequences of sand production, the desired solution to sand production is to control it downhole.\\n\\nCompaction of the reservoir rock may occur as a result of reduced pore pressure leading to surface subsidence. Examples of subsidence, caused by withdrawals of fluids and reduced pore pressure, are found in:\\n\\nVenezuela\\nLong Beach, California\\nGulf Coast of Texas\\nEkofisk Field in the central North Sea, where the platforms sank about 10 ft\\nIn Western Canadian heavy oil unconsolidated sand reservoirs where oil will flow at reservoir temperature and pressure (these are not the bitumen reservoirs) wells are perforated with 25mm diameter entry holes and operated at maximum drawdown to extract several hundred cubic meters of near wellbore sand. In reservoir with 30% porosity initial sand cuts have been observed as high as 70% suggesting the entire near wellbore reservoir is entering the well. Sand cut rapidly diminishes to less than 1% for the life of the well with no further sand slugging episodes. Oil rate is 4 to 6 times greater than theory predicts as a result of the sand extraction.\\n\\nCasing collapse or buckling in vertical wells is extremely rare and there has been no evidence of the overlying formation collapsing or of subsidence.\\n\\nSome wells that penetrate the zone at greater than 35 degree angle experience casing collapse or buckling after near wellbore sand extraction so few wells are drilled at more than 35 degree angles. These wells tend to expel more sand and for a longer period than vertical wells.\\n\\n\\n==References==\\n\\n\\n Agustawijaya, Didi. (2007). The Uniaxial Compressive Strength of Soft Rock. Civil Engineering Dimension. 9.\\n Mahmoudi, M., Fattahpour, V., Nouri, A., & Leitch, M. (2017, February 15). An Experimental Evaluation of Pore Plugging and Permeability Reduction Near SAGD Sand Control Liners. Society of Petroleum Engineers. doi:10.2118/184999-MS\\n Cabeen, W. R., & Bemis, E. G. (1949, January 1). Field Performance of Sand-control Liners in California. American Petroleum Institute.\\n Vaziri, H. H., Lemoine, E., Palmer, I. D., McLennan, J., & Islam, R. (2000, January 1). How Can Sand Production Yield a Several-Fold Increase in Productivity: Experimental and Field Data. Society of Petroleum Engineers. doi:10.2118/63235-MS\\n Palmer, I. D., McLennan, J. D., & Vaziri, H. H. (2000, January 1). Cavity-Like Completions in Weak Sands. Society of Petroleum Engineers. doi:10.2118/58719-MS\\n Penberthy, W.L. Jr. and Shaughnessy, C.M. 1992. Sand Control, Vol. 1, 11-17. Richardson, Texas: Monograph Series, SPE.\\n Li, J., Crabtree, A. R., Kutchel, M., Diaz, J. D., Reyes, W., Dugarte, R., & Pena, L. (2008, January 1). Sand/Well Vacuuming Technology with Concentric Coiled Tubing: Best Practices and Lessons Learned from Over 600 Operations. Society of Petroleum Engineers. doi:10.2118/115303-MS\\n https://jetliftsystems.ca/jetsweep-cleanouts/\\n https://fourphase.com/improving-production/continuous-production/'"
      ]
     },
     "execution_count": 3,
     "metadata": {},
     "output_type": "execute_result"
    }
   ],
   "source": [
    "data"
   ]
  },
  {
   "cell_type": "code",
   "execution_count": 5,
   "id": "16c101a0-1af7-42cb-b76c-216f8ab2d923",
   "metadata": {},
   "outputs": [
    {
     "data": {
      "text/plain": [
       "str"
      ]
     },
     "execution_count": 5,
     "metadata": {},
     "output_type": "execute_result"
    }
   ],
   "source": [
    "type(data)"
   ]
  },
  {
   "cell_type": "code",
   "execution_count": 13,
   "id": "781c70af-7ca4-4b66-84bb-6cf262a87dd5",
   "metadata": {},
   "outputs": [],
   "source": [
    "list_of_words = data.split(\" \")"
   ]
  },
  {
   "cell_type": "code",
   "execution_count": 15,
   "id": "9fc34c9c-2962-4942-a8ae-4b3e4364fb0c",
   "metadata": {},
   "outputs": [
    {
     "data": {
      "text/plain": [
       "2637"
      ]
     },
     "execution_count": 15,
     "metadata": {},
     "output_type": "execute_result"
    }
   ],
   "source": [
    "len(list_of_words)"
   ]
  },
  {
   "cell_type": "code",
   "execution_count": 17,
   "id": "f1659a14-7935-4eb2-83bb-08ba389f1997",
   "metadata": {},
   "outputs": [
    {
     "data": {
      "text/plain": [
       "1055"
      ]
     },
     "execution_count": 17,
     "metadata": {},
     "output_type": "execute_result"
    }
   ],
   "source": [
    "len(set(list_of_words))"
   ]
  },
  {
   "cell_type": "code",
   "execution_count": 19,
   "id": "dbbede9b-2289-4d5d-9c63-6e96222640c7",
   "metadata": {},
   "outputs": [
    {
     "data": {
      "text/plain": [
       "['Sand',\n",
       " 'control\\nJump',\n",
       " 'to',\n",
       " 'navigationJump',\n",
       " 'to',\n",
       " 'search\\nConventional',\n",
       " 'well',\n",
       " 'completions',\n",
       " 'in',\n",
       " 'soft',\n",
       " 'formations',\n",
       " '(the',\n",
       " 'compressive',\n",
       " 'strength',\n",
       " 'is',\n",
       " 'less',\n",
       " 'than',\n",
       " '1,000',\n",
       " 'psi)[1]',\n",
       " 'commonly',\n",
       " 'produce',\n",
       " 'formation',\n",
       " 'sand',\n",
       " 'or',\n",
       " 'fines',\n",
       " 'with',\n",
       " 'fluids.',\n",
       " 'These',\n",
       " 'formations',\n",
       " 'are',\n",
       " 'usually',\n",
       " 'geologically',\n",
       " 'young',\n",
       " '(Tertiary',\n",
       " 'age)',\n",
       " 'and',\n",
       " 'shallow,',\n",
       " 'and',\n",
       " 'they',\n",
       " 'have',\n",
       " 'little',\n",
       " 'or',\n",
       " 'no',\n",
       " 'natural',\n",
       " 'cementation.',\n",
       " '\"Friable\"',\n",
       " 'and',\n",
       " '\"Unconsolidated\"',\n",
       " 'are',\n",
       " 'two',\n",
       " 'commonly',\n",
       " 'used',\n",
       " 'terms',\n",
       " 'to',\n",
       " 'describe',\n",
       " 'the',\n",
       " 'nature',\n",
       " 'of',\n",
       " 'the',\n",
       " 'reservoir',\n",
       " 'material.\\n\\nSand',\n",
       " 'production',\n",
       " 'can',\n",
       " 'plug',\n",
       " 'tubing,',\n",
       " 'casing,',\n",
       " 'flowlines',\n",
       " 'and',\n",
       " 'surface',\n",
       " 'vessels.',\n",
       " 'It',\n",
       " 'can',\n",
       " 'erode',\n",
       " 'equipment',\n",
       " 'that',\n",
       " 'leads',\n",
       " 'to',\n",
       " 'loss',\n",
       " 'of',\n",
       " 'well',\n",
       " 'control',\n",
       " 'or',\n",
       " 'unwanted',\n",
       " 'fluid',\n",
       " 'emissions.',\n",
       " 'Use',\n",
       " 'of',\n",
       " 'properly',\n",
       " 'designed',\n",
       " 'downhole',\n",
       " 'sand',\n",
       " 'exclusion',\n",
       " 'builds',\n",
       " 'filtercake',\n",
       " 'that',\n",
       " 'impairs',\n",
       " 'well',\n",
       " 'productivity[2]',\n",
       " 'eventually',\n",
       " 'terminating',\n",
       " 'inflow',\n",
       " 'often',\n",
       " 'leaving',\n",
       " 'a',\n",
       " 'large',\n",
       " 'volume',\n",
       " 'of',\n",
       " 'recoverable',\n",
       " 'oil',\n",
       " 'just',\n",
       " 'beyond',\n",
       " 'the',\n",
       " 'filtercake[3].\\n\\nIn',\n",
       " 'some',\n",
       " 'situations',\n",
       " 'managed',\n",
       " 'purposeful',\n",
       " 'sand',\n",
       " 'production',\n",
       " 'can',\n",
       " 'be',\n",
       " 'less',\n",
       " 'costly',\n",
       " 'and',\n",
       " 'recover',\n",
       " 'more',\n",
       " 'oil',\n",
       " 'than',\n",
       " 'attempting',\n",
       " 'to',\n",
       " 'exclude',\n",
       " 'it.',\n",
       " 'Managed',\n",
       " 'purposeful',\n",
       " 'sand',\n",
       " 'production',\n",
       " 'can',\n",
       " 'stimulate',\n",
       " 'inflow',\n",
       " 'several',\n",
       " 'fold',\n",
       " 'as',\n",
       " 'in',\n",
       " 'the',\n",
       " 'cavity',\n",
       " 'completion',\n",
       " 'techniques[4][5].\\n\\nProduced',\n",
       " 'formation',\n",
       " 'sand',\n",
       " 'has',\n",
       " 'no',\n",
       " 'economic',\n",
       " 'value',\n",
       " 'unless',\n",
       " 'the',\n",
       " 'stimulation',\n",
       " 'of',\n",
       " 'inflow',\n",
       " 'rate',\n",
       " 'and/or',\n",
       " 'recovery',\n",
       " 'is',\n",
       " 'considered.\\n\\nFormation',\n",
       " 'sand',\n",
       " 'production',\n",
       " 'from',\n",
       " 'wells',\n",
       " 'is',\n",
       " 'dealt',\n",
       " 'with',\n",
       " 'daily',\n",
       " 'on',\n",
       " 'a',\n",
       " 'global',\n",
       " 'basis.',\n",
       " 'Volumes',\n",
       " 'of',\n",
       " 'sand',\n",
       " 'can',\n",
       " 'be',\n",
       " 'a',\n",
       " 'few',\n",
       " 'liters',\n",
       " 'to',\n",
       " 'several',\n",
       " 'hundred',\n",
       " 'cubic',\n",
       " 'meters.',\n",
       " 'There',\n",
       " 'is',\n",
       " 'a',\n",
       " 'large',\n",
       " 'assortment',\n",
       " 'of',\n",
       " 'devices',\n",
       " 'available',\n",
       " 'for',\n",
       " 'downhole',\n",
       " 'sand',\n",
       " 'exclusion,',\n",
       " 'inflow',\n",
       " 'management,',\n",
       " 'production',\n",
       " 'equipment,',\n",
       " 'artificial',\n",
       " 'lift,',\n",
       " 'surface',\n",
       " 'separation,',\n",
       " 'and',\n",
       " 'disposal.',\n",
       " 'Decisions',\n",
       " 'around',\n",
       " 'sand',\n",
       " 'production',\n",
       " 'are',\n",
       " 'not',\n",
       " 'purely',\n",
       " 'economic.',\n",
       " 'Regulatory',\n",
       " 'and',\n",
       " 'environmental',\n",
       " 'restrictions',\n",
       " 'have',\n",
       " 'come',\n",
       " 'to',\n",
       " 'play',\n",
       " 'a',\n",
       " 'significant',\n",
       " 'role',\n",
       " 'in',\n",
       " 'the',\n",
       " 'decisions',\n",
       " 'of',\n",
       " 'how',\n",
       " 'sand',\n",
       " 'production',\n",
       " 'will',\n",
       " 'be',\n",
       " 'handled.luid',\n",
       " 'flow\\nFluid',\n",
       " 'flow',\n",
       " 'from',\n",
       " 'wells',\n",
       " 'is',\n",
       " 'the',\n",
       " 'consequence',\n",
       " 'of',\n",
       " 'the',\n",
       " 'wellbore',\n",
       " 'pressure',\n",
       " 'being',\n",
       " 'smaller',\n",
       " 'than',\n",
       " 'that',\n",
       " 'in',\n",
       " 'the',\n",
       " 'reservoir.',\n",
       " 'The',\n",
       " 'drag',\n",
       " 'force',\n",
       " 'caused',\n",
       " 'by',\n",
       " 'the',\n",
       " 'flow',\n",
       " 'from',\n",
       " 'large',\n",
       " 'to',\n",
       " 'small',\n",
       " 'pressure',\n",
       " 'is',\n",
       " 'related',\n",
       " 'to',\n",
       " 'the',\n",
       " 'velocity-viscosity',\n",
       " 'product',\n",
       " 'at',\n",
       " 'any',\n",
       " 'point',\n",
       " 'around',\n",
       " 'the',\n",
       " 'well.',\n",
       " 'Hence,',\n",
       " 'when',\n",
       " 'fluids',\n",
       " 'flow',\n",
       " 'toward',\n",
       " 'the',\n",
       " 'wellbore,',\n",
       " 'the',\n",
       " 'tendency',\n",
       " 'is',\n",
       " 'for',\n",
       " 'some',\n",
       " 'of',\n",
       " 'the',\n",
       " 'formation',\n",
       " 'material',\n",
       " 'to',\n",
       " 'flow',\n",
       " 'concurrently',\n",
       " 'with',\n",
       " 'the',\n",
       " 'fluids.[6]\\n\\nIn',\n",
       " 'the',\n",
       " 'case',\n",
       " 'of',\n",
       " 'unconsolidated',\n",
       " 'sand',\n",
       " 'reservoirs',\n",
       " 'there',\n",
       " 'is',\n",
       " 'no',\n",
       " 'cementation',\n",
       " 'material',\n",
       " 'of',\n",
       " 'any',\n",
       " 'sort',\n",
       " 'binding',\n",
       " 'the',\n",
       " 'individual',\n",
       " 'sand',\n",
       " 'grains',\n",
       " 'to',\n",
       " 'each',\n",
       " 'other.',\n",
       " 'Sand',\n",
       " 'grains',\n",
       " 'are',\n",
       " 'suspended',\n",
       " 'in',\n",
       " 'the',\n",
       " 'reservoir',\n",
       " 'fluids.',\n",
       " 'In',\n",
       " 'Western',\n",
       " 'Canada',\n",
       " 'heavy',\n",
       " 'oil',\n",
       " 'reservoirs',\n",
       " 'where',\n",
       " 'it',\n",
       " 'has',\n",
       " 'been',\n",
       " 'the',\n",
       " 'practice',\n",
       " 'for',\n",
       " 'over',\n",
       " '80',\n",
       " 'years',\n",
       " 'to',\n",
       " 'perforate',\n",
       " 'casing',\n",
       " 'and',\n",
       " 'induce',\n",
       " 'several',\n",
       " 'hundred',\n",
       " 'cubic',\n",
       " 'meters',\n",
       " 'of',\n",
       " 'near',\n",
       " 'wellbore',\n",
       " 'sand',\n",
       " 'inflow',\n",
       " 'to',\n",
       " 'stimulate',\n",
       " 'rate',\n",
       " 'and',\n",
       " 'recovery,',\n",
       " 'initial',\n",
       " 'sand',\n",
       " 'cut',\n",
       " 'can',\n",
       " 'be',\n",
       " 'as',\n",
       " 'high',\n",
       " 'as',\n",
       " '70%',\n",
       " 'in',\n",
       " 'reservoirs',\n",
       " 'with',\n",
       " '30%',\n",
       " 'porosity',\n",
       " 'suggesting',\n",
       " 'the',\n",
       " 'entire',\n",
       " 'near',\n",
       " 'wellbore',\n",
       " 'reservoir',\n",
       " 'is',\n",
       " 'flowing',\n",
       " 'into',\n",
       " 'the',\n",
       " 'well.',\n",
       " 'Fortunately',\n",
       " 'the',\n",
       " 'sand',\n",
       " 'cut',\n",
       " 'declines',\n",
       " 'quickly',\n",
       " 'to',\n",
       " '1%',\n",
       " 'or',\n",
       " 'less',\n",
       " 'for',\n",
       " 'the',\n",
       " 'remaining',\n",
       " 'life',\n",
       " 'of',\n",
       " 'the',\n",
       " 'well.\\n\\nRestraining',\n",
       " 'forces\\nOpposing',\n",
       " 'the',\n",
       " 'fluid',\n",
       " 'forces',\n",
       " 'are',\n",
       " 'the',\n",
       " 'restraining',\n",
       " 'forces',\n",
       " 'that',\n",
       " 'hold',\n",
       " 'the',\n",
       " 'formation',\n",
       " 'sand',\n",
       " 'in',\n",
       " 'place.',\n",
       " 'These',\n",
       " 'consist',\n",
       " 'of:\\n\\nNatural',\n",
       " 'cementation',\n",
       " '(compressive',\n",
       " 'strength)\\nFriction',\n",
       " 'between',\n",
       " 'sand',\n",
       " 'grains\\nFluid',\n",
       " 'pressure',\n",
       " 'in',\n",
       " 'the',\n",
       " 'pores',\n",
       " 'of',\n",
       " 'the',\n",
       " 'rock\\nCapillary',\n",
       " 'forces\\nThe',\n",
       " 'compressive',\n",
       " 'strength',\n",
       " 'of',\n",
       " 'the',\n",
       " 'rock,',\n",
       " 'the',\n",
       " 'primary',\n",
       " 'restraint,',\n",
       " 'is',\n",
       " 'controlled',\n",
       " 'by',\n",
       " 'intergranular',\n",
       " 'cementation',\n",
       " 'that',\n",
       " 'is',\n",
       " 'a',\n",
       " 'secondary',\n",
       " 'geologic',\n",
       " 'process.',\n",
       " 'As',\n",
       " 'a',\n",
       " 'general',\n",
       " 'rule,',\n",
       " 'old',\n",
       " 'sediments',\n",
       " 'are',\n",
       " 'more',\n",
       " 'consolidated',\n",
       " 'than',\n",
       " 'are',\n",
       " 'younger',\n",
       " 'sediments.',\n",
       " 'Young',\n",
       " 'formations',\n",
       " 'commonly',\n",
       " 'have',\n",
       " 'little',\n",
       " 'cementing',\n",
       " 'material',\n",
       " 'and',\n",
       " 'are',\n",
       " 'referred',\n",
       " 'to',\n",
       " 'as',\n",
       " 'being',\n",
       " 'poorly',\n",
       " 'consolidated.',\n",
       " 'Stated',\n",
       " 'another',\n",
       " 'way,',\n",
       " 'they',\n",
       " 'have',\n",
       " 'low',\n",
       " 'compressive',\n",
       " 'strength.',\n",
       " 'Their',\n",
       " 'compressive',\n",
       " 'strengths',\n",
       " 'are',\n",
       " 'usually',\n",
       " 'less',\n",
       " 'than',\n",
       " '1,000',\n",
       " 'psi',\n",
       " 'and',\n",
       " 'may',\n",
       " 'even',\n",
       " 'be',\n",
       " 'so',\n",
       " 'small',\n",
       " 'that',\n",
       " 'their',\n",
       " 'strengths',\n",
       " 'can',\n",
       " 'not',\n",
       " 'be',\n",
       " 'measured.',\n",
       " 'The',\n",
       " 'frictional',\n",
       " 'forces',\n",
       " 'are',\n",
       " 'related',\n",
       " 'to',\n",
       " 'the',\n",
       " 'confining',\n",
       " 'or',\n",
       " 'overburden',\n",
       " 'stresses.',\n",
       " 'The',\n",
       " 'stress',\n",
       " 'that',\n",
       " 'causes',\n",
       " 'the',\n",
       " 'rock',\n",
       " 'to',\n",
       " 'fail',\n",
       " 'includes',\n",
       " 'the',\n",
       " 'mechanical',\n",
       " 'stress',\n",
       " 'that',\n",
       " 'results',\n",
       " 'from',\n",
       " 'the',\n",
       " 'overburden',\n",
       " 'and',\n",
       " 'the',\n",
       " 'drag',\n",
       " 'forces',\n",
       " 'associated',\n",
       " 'from',\n",
       " 'viscous',\n",
       " 'flow',\n",
       " 'of',\n",
       " 'fluids',\n",
       " 'through',\n",
       " 'the',\n",
       " 'rock',\n",
       " 'matrix.',\n",
       " 'The',\n",
       " 'overburden',\n",
       " 'stress',\n",
       " 'is',\n",
       " 'partially',\n",
       " 'supported',\n",
       " 'by',\n",
       " 'the',\n",
       " 'pore',\n",
       " 'pressure,',\n",
       " 'so',\n",
       " 'the',\n",
       " 'net',\n",
       " 'stress',\n",
       " '(the',\n",
       " 'cause',\n",
       " 'of',\n",
       " 'rock',\n",
       " 'failure,',\n",
       " 'the',\n",
       " 'effective',\n",
       " 'stress)',\n",
       " 'is',\n",
       " 'the',\n",
       " 'difference',\n",
       " 'between',\n",
       " 'the',\n",
       " 'overburden',\n",
       " 'stress',\n",
       " 'and',\n",
       " 'the',\n",
       " 'pore',\n",
       " 'pressure.\\n\\nCapillary',\n",
       " 'forces',\n",
       " 'can',\n",
       " 'also',\n",
       " 'contribute',\n",
       " 'to',\n",
       " 'sand',\n",
       " 'production;',\n",
       " 'there',\n",
       " 'are',\n",
       " 'numerous',\n",
       " 'examples',\n",
       " 'where',\n",
       " 'sand',\n",
       " 'production',\n",
       " 'occurred',\n",
       " 'when',\n",
       " 'water',\n",
       " 'production',\n",
       " 'began.',\n",
       " 'Sand',\n",
       " 'arches',\n",
       " 'form,',\n",
       " 'on',\n",
       " 'occasion,',\n",
       " 'around',\n",
       " 'the',\n",
       " 'perforations.',\n",
       " 'The',\n",
       " 'questions',\n",
       " 'of',\n",
       " 'when',\n",
       " 'and',\n",
       " 'how',\n",
       " 'arches',\n",
       " 'form',\n",
       " 'are',\n",
       " 'related',\n",
       " 'to:\\n\\nFlow',\n",
       " 'rate\\nCompressive',\n",
       " 'strength',\n",
       " 'of',\n",
       " 'the',\n",
       " 'formation\\nSize',\n",
       " 'of',\n",
       " 'the',\n",
       " 'sand',\n",
       " 'and',\n",
       " 'the',\n",
       " 'perforations\\nFig.',\n",
       " '1',\n",
       " 'portrays',\n",
       " 'an',\n",
       " 'arch',\n",
       " 'and',\n",
       " 'the',\n",
       " 'balance',\n",
       " 'between',\n",
       " 'viscous',\n",
       " 'and',\n",
       " 'restraining',\n",
       " 'forces.',\n",
       " 'Unfortunately,',\n",
       " 'sand',\n",
       " 'arches',\n",
       " 'are',\n",
       " 'not',\n",
       " 'stable,',\n",
       " 'and',\n",
       " 'their',\n",
       " 'transient',\n",
       " 'behavior',\n",
       " 'cannot',\n",
       " 'be',\n",
       " 'relied',\n",
       " 'upon',\n",
       " 'for',\n",
       " 'controlling',\n",
       " 'sand',\n",
       " 'production.\\n\\nFig.',\n",
       " '1—Geometry',\n",
       " 'of',\n",
       " 'a',\n",
       " 'stable',\n",
       " 'arch',\n",
       " 'surrounding',\n",
       " 'a',\n",
       " 'perforation.\\nFig.',\n",
       " '1—Geometry',\n",
       " 'of',\n",
       " 'a',\n",
       " 'stable',\n",
       " 'arch',\n",
       " 'surrounding',\n",
       " 'a',\n",
       " 'perforation.\\n\\nConsequences',\n",
       " 'of',\n",
       " 'sand',\n",
       " 'production\\nThe',\n",
       " 'consequences',\n",
       " 'of',\n",
       " 'sand',\n",
       " 'production',\n",
       " 'are',\n",
       " 'often',\n",
       " 'detrimental',\n",
       " 'to',\n",
       " 'the',\n",
       " 'short-long-term',\n",
       " 'productivity',\n",
       " 'of',\n",
       " 'the',\n",
       " 'well.',\n",
       " 'Although',\n",
       " 'some',\n",
       " 'wells',\n",
       " 'routinely',\n",
       " 'experience',\n",
       " 'manageable',\n",
       " 'sand',\n",
       " 'production,',\n",
       " 'these',\n",
       " 'are',\n",
       " 'the',\n",
       " 'exception',\n",
       " 'rather',\n",
       " 'than',\n",
       " 'the',\n",
       " 'rule.',\n",
       " 'Sand',\n",
       " 'production',\n",
       " 'and',\n",
       " 'its',\n",
       " 'management',\n",
       " 'over',\n",
       " 'the',\n",
       " 'life',\n",
       " 'of',\n",
       " 'the',\n",
       " 'well',\n",
       " 'is',\n",
       " 'not',\n",
       " 'an',\n",
       " 'attractive',\n",
       " 'situation',\n",
       " 'but',\n",
       " 'is',\n",
       " 'often',\n",
       " 'necessary',\n",
       " 'to',\n",
       " 'extract',\n",
       " 'the',\n",
       " 'resource.',\n",
       " 'Knowing',\n",
       " 'the',\n",
       " 'conditions',\n",
       " 'that',\n",
       " 'cause',\n",
       " 'sand',\n",
       " 'inflow',\n",
       " 'and',\n",
       " 'the',\n",
       " 'possible',\n",
       " 'consequences',\n",
       " 'can',\n",
       " 'inform',\n",
       " 'an',\n",
       " 'appropriate',\n",
       " 'strategy',\n",
       " 'to',\n",
       " 'safely',\n",
       " 'extract',\n",
       " 'as',\n",
       " 'much',\n",
       " 'of',\n",
       " 'the',\n",
       " 'resource',\n",
       " 'as',\n",
       " 'possible.\\n\\nAccumulation',\n",
       " 'downhole\\nSand',\n",
       " 'transport',\n",
       " 'in',\n",
       " 'well',\n",
       " 'tubulars',\n",
       " 'is',\n",
       " 'dependent',\n",
       " 'on',\n",
       " 'the',\n",
       " 'inside',\n",
       " 'diameter',\n",
       " 'of',\n",
       " 'the',\n",
       " 'pipe,',\n",
       " 'fluid',\n",
       " 'viscosity,',\n",
       " 'changes',\n",
       " 'in',\n",
       " 'inside',\n",
       " 'pipe',\n",
       " 'diameter,',\n",
       " 'changes',\n",
       " 'in',\n",
       " 'direction',\n",
       " 'of',\n",
       " 'flow,',\n",
       " 'and',\n",
       " 'whether',\n",
       " 'the',\n",
       " 'pipe',\n",
       " 'is',\n",
       " 'horizontal',\n",
       " 'or',\n",
       " 'vertical.\\n\\nThe',\n",
       " 'practice',\n",
       " 'of',\n",
       " 'landing',\n",
       " 'tubing',\n",
       " 'several',\n",
       " 'joints',\n",
       " 'above',\n",
       " 'the',\n",
       " 'perforations',\n",
       " 'exposes',\n",
       " 'the',\n",
       " 'well',\n",
       " 'to',\n",
       " 'covering',\n",
       " 'of',\n",
       " 'the',\n",
       " 'perforations',\n",
       " 'by',\n",
       " 'sand',\n",
       " 'inflow',\n",
       " 'if',\n",
       " 'the',\n",
       " 'fluid',\n",
       " 'velocity',\n",
       " 'in',\n",
       " 'the',\n",
       " 'casing',\n",
       " 'is',\n",
       " 'too',\n",
       " 'low',\n",
       " 'to',\n",
       " 'transport',\n",
       " 'sand',\n",
       " 'to',\n",
       " 'the',\n",
       " 'tubing',\n",
       " 'even',\n",
       " 'though',\n",
       " 'well',\n",
       " 'production',\n",
       " 'would',\n",
       " 'generate',\n",
       " 'a',\n",
       " 'fluid',\n",
       " 'velocity',\n",
       " 'in',\n",
       " 'the',\n",
       " 'tubing',\n",
       " 'high',\n",
       " 'enough',\n",
       " 'to',\n",
       " 'transport',\n",
       " 'sand.',\n",
       " 'The',\n",
       " 'risk',\n",
       " 'in',\n",
       " 'landing',\n",
       " 'the',\n",
       " 'tubing',\n",
       " 'at',\n",
       " 'the',\n",
       " 'bottom',\n",
       " 'of',\n",
       " 'the',\n",
       " 'perforations',\n",
       " 'is',\n",
       " 'sand',\n",
       " 'will',\n",
       " 'accumulate',\n",
       " 'to',\n",
       " 'the',\n",
       " 'bottom',\n",
       " 'of',\n",
       " 'the',\n",
       " 'tubing',\n",
       " 'which',\n",
       " 'could',\n",
       " 'eventually',\n",
       " 'constrict',\n",
       " 'production',\n",
       " 'entering',\n",
       " 'the',\n",
       " 'tubing',\n",
       " 'as',\n",
       " 'well',\n",
       " 'as',\n",
       " 'sand',\n",
       " 'blasting',\n",
       " 'perforations',\n",
       " 'in',\n",
       " 'the',\n",
       " 'tubing',\n",
       " 'and/or',\n",
       " 'the',\n",
       " 'tubing',\n",
       " 'becoming',\n",
       " 'stuck',\n",
       " 'in',\n",
       " 'the',\n",
       " 'casing',\n",
       " 'due',\n",
       " 'to',\n",
       " 'sand',\n",
       " 'build',\n",
       " 'up',\n",
       " 'in',\n",
       " 'the',\n",
       " 'casing-tubing',\n",
       " 'annulus.\\n\\nIf',\n",
       " 'the',\n",
       " 'production',\n",
       " 'velocity',\n",
       " 'in',\n",
       " 'well',\n",
       " 'tubulars',\n",
       " 'is',\n",
       " 'insufficient',\n",
       " 'to',\n",
       " 'transport',\n",
       " 'sand',\n",
       " 'to',\n",
       " 'the',\n",
       " 'surface,',\n",
       " 'it',\n",
       " 'will',\n",
       " 'begin',\n",
       " 'to',\n",
       " 'fill',\n",
       " 'the',\n",
       " 'inside',\n",
       " 'of',\n",
       " 'the',\n",
       " 'casing.',\n",
       " 'Eventually,',\n",
       " 'the',\n",
       " 'producing',\n",
       " 'interval',\n",
       " 'may',\n",
       " 'be',\n",
       " 'completely',\n",
       " 'covered',\n",
       " 'with',\n",
       " 'sand.',\n",
       " 'In',\n",
       " 'this',\n",
       " 'case,',\n",
       " 'the',\n",
       " 'production',\n",
       " 'rate',\n",
       " 'will',\n",
       " 'decline',\n",
       " 'until',\n",
       " 'the',\n",
       " 'well',\n",
       " 'becomes',\n",
       " '“sanded',\n",
       " 'up”',\n",
       " 'and',\n",
       " 'production',\n",
       " 'ceases.',\n",
       " 'In',\n",
       " 'situations',\n",
       " 'like',\n",
       " 'this,',\n",
       " 'remedial',\n",
       " 'operations',\n",
       " 'are',\n",
       " 'required',\n",
       " 'to',\n",
       " 'clean',\n",
       " 'out',\n",
       " 'the',\n",
       " 'well',\n",
       " 'and',\n",
       " 'restore',\n",
       " 'productivity.\\n\\nA',\n",
       " 'variety',\n",
       " 'of',\n",
       " 'equipment',\n",
       " 'and',\n",
       " 'practices',\n",
       " 'are',\n",
       " 'used',\n",
       " 'to',\n",
       " 'extract',\n",
       " 'accumulated',\n",
       " 'solids',\n",
       " 'in',\n",
       " 'wellbores.',\n",
       " 'Which',\n",
       " 'one',\n",
       " 'to',\n",
       " 'use',\n",
       " 'depends',\n",
       " ...]"
      ]
     },
     "execution_count": 19,
     "metadata": {},
     "output_type": "execute_result"
    }
   ],
   "source": [
    "list_of_words"
   ]
  },
  {
   "cell_type": "code",
   "execution_count": 21,
   "id": "5e908dbe-e08e-4636-ae92-c21749deb738",
   "metadata": {},
   "outputs": [],
   "source": [
    "BLT = \"\"\"In physics and fluid mechanics, a boundary layer is the thin layer of fluid in the immediate vicinity of a bounding surface formed by the fluid flowing along the surface. The fluid's interaction with the wall induces a no-slip boundary condition (zero velocity at the wall). The flow velocity then monotonically increases above the surface until it returns to the bulk flow velocity. The thin layer consisting of fluid whose velocity has not yet returned to the bulk flow velocity is called the velocity boundary layer.\n",
    "\n",
    "The air next to a human is heated, resulting in gravity-induced convective airflow, which results in both a velocity and thermal boundary layer. A breeze disrupts the boundary layer, and hair and clothing protect it, making the human feel cooler or warmer. On an aircraft wing, the velocity boundary layer is the part of the flow close to the wing, where viscous forces distort the surrounding non-viscous flow. In the Earth's atmosphere, the atmospheric boundary layer is the air layer (~ 1 km) near the ground. It is affected by the surface; day-night heat flows caused by the sun heating the ground, moisture, or momentum transfer to or from the surface.Laminar boundary layers can be loosely classified according to their structure and the circumstances under which they are created. The thin shear layer which develops on an oscillating body is an example of a Stokes boundary layer, while the Blasius boundary layer refers to the well-known similarity solution near an attached flat plate held in an oncoming unidirectional flow and Falkner–Skan boundary layer, a generalization of Blasius profile. When a fluid rotates and viscous forces are balanced by the Coriolis effect (rather than convective inertia), an Ekman layer forms. In the theory of heat transfer, a thermal boundary layer occurs. A surface can have multiple types of boundary layer simultaneously.\n",
    "\n",
    "The viscous nature of airflow reduces the local velocities on a surface and is responsible for skin friction. The layer of air over the wing's surface that is slowed down or stopped by viscosity, is the boundary layer. There are two different types of boundary layer flow: laminar and turbulent.[1]\n",
    "\n",
    "Laminar boundary layer flow\n",
    "\n",
    "The laminar boundary is a very smooth flow, while the turbulent boundary layer contains swirls or \"eddies.\" The laminar flow creates less skin friction drag than the turbulent flow, but is less stable. Boundary layer flow over a wing surface begins as a smooth laminar flow. As the flow continues back from the leading edge, the laminar boundary layer increases in thickness.\n",
    "\n",
    "Turbulent boundary layer flow\n",
    "\n",
    "At some distance back from the leading edge, the smooth laminar flow breaks down and transitions to a turbulent flow. From a drag standpoint, it is advisable to have the transition from laminar to turbulent flow as far aft on the wing as possible, or have a large amount of the wing surface within the laminar portion of the boundary layer. The low energy laminar flow, however, tends to break down more suddenly than the turbulent layer.\"\"\""
   ]
  },
  {
   "cell_type": "code",
   "execution_count": 18,
   "id": "ccae3c11-98b4-474f-a333-929a8f7e7260",
   "metadata": {},
   "outputs": [
    {
     "ename": "NameError",
     "evalue": "name 'data' is not defined",
     "output_type": "error",
     "traceback": [
      "\u001b[1;31m---------------------------------------------------------------------------\u001b[0m",
      "\u001b[1;31mNameError\u001b[0m                                 Traceback (most recent call last)",
      "Cell \u001b[1;32mIn[18], line 1\u001b[0m\n\u001b[1;32m----> 1\u001b[0m data\n",
      "\u001b[1;31mNameError\u001b[0m: name 'data' is not defined"
     ]
    }
   ],
   "source": [
    "data"
   ]
  },
  {
   "cell_type": "code",
   "execution_count": null,
   "id": "ff0b6f63-6370-4863-b647-3c6cdb5f6f47",
   "metadata": {},
   "outputs": [],
   "source": []
  },
  {
   "cell_type": "code",
   "execution_count": 20,
   "id": "99215fe5-f1be-4c22-a8bb-3445e71f8b61",
   "metadata": {},
   "outputs": [
    {
     "name": "stdout",
     "output_type": "stream",
     "text": [
      "Hello All!\n",
      "How are you doing?\n"
     ]
    }
   ],
   "source": [
    "print(\"Hello All!\\nHow are you doing?\")"
   ]
  },
  {
   "cell_type": "code",
   "execution_count": 26,
   "id": "0359fd94-2e2f-4ed1-bf51-7590a2ae280a",
   "metadata": {},
   "outputs": [],
   "source": [
    "## Dictionary \n",
    "#Key:Value\n",
    "##Dictionary is mutalbe in nature"
   ]
  },
  {
   "cell_type": "code",
   "execution_count": 28,
   "id": "d0c135a9-8221-44b1-9f27-e3e7cb57c11f",
   "metadata": {},
   "outputs": [],
   "source": [
    "d = {}"
   ]
  },
  {
   "cell_type": "code",
   "execution_count": 30,
   "id": "d83b604b-f83f-47aa-8913-b1df1596c3d0",
   "metadata": {},
   "outputs": [
    {
     "data": {
      "text/plain": [
       "dict"
      ]
     },
     "execution_count": 30,
     "metadata": {},
     "output_type": "execute_result"
    }
   ],
   "source": [
    "type(d)"
   ]
  },
  {
   "cell_type": "code",
   "execution_count": 32,
   "id": "f2b4ca7a-c6fc-407c-9aa2-8d047fcf3171",
   "metadata": {},
   "outputs": [],
   "source": [
    "d = {1}"
   ]
  },
  {
   "cell_type": "code",
   "execution_count": 34,
   "id": "85d91b80-e3e5-4edc-ac6c-3291a0deaab1",
   "metadata": {},
   "outputs": [
    {
     "data": {
      "text/plain": [
       "set"
      ]
     },
     "execution_count": 34,
     "metadata": {},
     "output_type": "execute_result"
    }
   ],
   "source": [
    "type(d)"
   ]
  },
  {
   "cell_type": "code",
   "execution_count": 40,
   "id": "41c92e70-dd83-4be6-8151-15d140968b37",
   "metadata": {},
   "outputs": [],
   "source": [
    "        info_me = {'name': \"Ashwajeet\"}"
   ]
  },
  {
   "cell_type": "code",
   "execution_count": 38,
   "id": "14942f5a-996b-406b-9086-4582c45da7af",
   "metadata": {},
   "outputs": [
    {
     "data": {
      "text/plain": [
       "{'name': 'Ashwajeet'}"
      ]
     },
     "execution_count": 38,
     "metadata": {},
     "output_type": "execute_result"
    }
   ],
   "source": [
    "info_me"
   ]
  },
  {
   "cell_type": "code",
   "execution_count": 42,
   "id": "bc479c35-447d-4124-b314-701d7c4a0a0a",
   "metadata": {},
   "outputs": [],
   "source": [
    "info_me = {'name': \"Ashwajeet\",'age':'abc','number':'123456','mail':'abc123@gmail.com'}"
   ]
  },
  {
   "cell_type": "code",
   "execution_count": 44,
   "id": "63ef1a39-b274-4d9b-b943-74fd90c02752",
   "metadata": {},
   "outputs": [
    {
     "data": {
      "text/plain": [
       "{'name': 'Ashwajeet',\n",
       " 'age': 'abc',\n",
       " 'number': '123456',\n",
       " 'mail': 'abc123@gmail.com'}"
      ]
     },
     "execution_count": 44,
     "metadata": {},
     "output_type": "execute_result"
    }
   ],
   "source": [
    "info_me"
   ]
  },
  {
   "cell_type": "code",
   "execution_count": 48,
   "id": "f321f8a7-04b8-4d56-8bc4-16579a683cca",
   "metadata": {},
   "outputs": [
    {
     "data": {
      "text/plain": [
       "'abc123@gmail.com'"
      ]
     },
     "execution_count": 48,
     "metadata": {},
     "output_type": "execute_result"
    }
   ],
   "source": [
    "info_me[\"mail\"]"
   ]
  },
  {
   "cell_type": "code",
   "execution_count": 50,
   "id": "344476f5-f18a-463d-8859-7060075dee12",
   "metadata": {},
   "outputs": [],
   "source": [
    "rock_properties = {'poro':'0.25','perm':'150','lithology':'SST'}"
   ]
  },
  {
   "cell_type": "code",
   "execution_count": 52,
   "id": "8eaa73ba-d98f-4e4d-b96a-f8b121c5b719",
   "metadata": {},
   "outputs": [
    {
     "data": {
      "text/plain": [
       "{'poro': '0.25', 'perm': '150', 'lithology': 'SST'}"
      ]
     },
     "execution_count": 52,
     "metadata": {},
     "output_type": "execute_result"
    }
   ],
   "source": [
    "rock_properties"
   ]
  },
  {
   "cell_type": "code",
   "execution_count": 54,
   "id": "fb6dd4bd-68cb-4bcd-9f78-a2a341846e68",
   "metadata": {},
   "outputs": [],
   "source": [
    "a = {'key':'Value'}"
   ]
  },
  {
   "cell_type": "code",
   "execution_count": 56,
   "id": "1c429fe0-7605-4b82-adbc-84139dc53a80",
   "metadata": {},
   "outputs": [
    {
     "data": {
      "text/plain": [
       "{'key': 'Value'}"
      ]
     },
     "execution_count": 56,
     "metadata": {},
     "output_type": "execute_result"
    }
   ],
   "source": [
    "a"
   ]
  },
  {
   "cell_type": "code",
   "execution_count": 58,
   "id": "15285a5d-01d3-42f9-b31f-86b0467ea41c",
   "metadata": {},
   "outputs": [],
   "source": [
    "##Key must be unique"
   ]
  },
  {
   "cell_type": "code",
   "execution_count": 62,
   "id": "6c61a4bc-a0ea-472d-bc01-7f37291914a4",
   "metadata": {},
   "outputs": [],
   "source": [
    "## Rules for Key: Key can be a number, a string and a float.\n",
    "## Special characters are not allowed"
   ]
  },
  {
   "cell_type": "code",
   "execution_count": 64,
   "id": "a560a727-d5b0-4188-b1ea-56706424ba81",
   "metadata": {},
   "outputs": [],
   "source": [
    "d1 = {'_3443':'jc', 'name':'jaiyesh','n':[2,3,4,5,6,7,8,'AP',(1,2,3,4,5,6,7,8,9)],'t':(3,4,5,6,7),'d':{1:23,'jv':'hs'}}"
   ]
  },
  {
   "cell_type": "code",
   "execution_count": 66,
   "id": "331ebc00-f712-4c17-8c39-6979af273aea",
   "metadata": {},
   "outputs": [
    {
     "data": {
      "text/plain": [
       "{'_3443': 'jc',\n",
       " 'name': 'jaiyesh',\n",
       " 'n': [2, 3, 4, 5, 6, 7, 8, 'AP', (1, 2, 3, 4, 5, 6, 7, 8, 9)],\n",
       " 't': (3, 4, 5, 6, 7),\n",
       " 'd': {1: 23, 'jv': 'hs'}}"
      ]
     },
     "execution_count": 66,
     "metadata": {},
     "output_type": "execute_result"
    }
   ],
   "source": [
    "d1"
   ]
  },
  {
   "cell_type": "code",
   "execution_count": 74,
   "id": "5f32a453-77ad-443d-bba0-d4abd3d29dc6",
   "metadata": {},
   "outputs": [
    {
     "data": {
      "text/plain": [
       "'hs'"
      ]
     },
     "execution_count": 74,
     "metadata": {},
     "output_type": "execute_result"
    }
   ],
   "source": [
    "d1['d'][\"jv\"]"
   ]
  },
  {
   "cell_type": "code",
   "execution_count": 76,
   "id": "269ff3c2-d0ed-4dba-b1b5-e564d30f3f14",
   "metadata": {},
   "outputs": [
    {
     "data": {
      "text/plain": [
       "3"
      ]
     },
     "execution_count": 76,
     "metadata": {},
     "output_type": "execute_result"
    }
   ],
   "source": [
    "d1['n'][8][2]"
   ]
  },
  {
   "cell_type": "code",
   "execution_count": 78,
   "id": "79fb0775-2df2-43cd-9266-a8d61253e3b5",
   "metadata": {},
   "outputs": [
    {
     "data": {
      "text/plain": [
       "{'poro': '0.25', 'perm': '150', 'lithology': 'SST'}"
      ]
     },
     "execution_count": 78,
     "metadata": {},
     "output_type": "execute_result"
    }
   ],
   "source": [
    "rock_properties"
   ]
  },
  {
   "cell_type": "code",
   "execution_count": 80,
   "id": "5dee9208-3b52-4c7a-8bae-c107233610d0",
   "metadata": {},
   "outputs": [],
   "source": [
    "rock_properties[\"water_saturation\"] = 0.34"
   ]
  },
  {
   "cell_type": "code",
   "execution_count": 82,
   "id": "34890c7b-1aea-4492-80ba-9d9d1602a8ba",
   "metadata": {},
   "outputs": [
    {
     "data": {
      "text/plain": [
       "{'poro': '0.25', 'perm': '150', 'lithology': 'SST', 'water_saturation': 0.34}"
      ]
     },
     "execution_count": 82,
     "metadata": {},
     "output_type": "execute_result"
    }
   ],
   "source": [
    "rock_properties"
   ]
  },
  {
   "cell_type": "code",
   "execution_count": 84,
   "id": "77c653df-393b-43ad-a704-4d92aeb2c259",
   "metadata": {},
   "outputs": [],
   "source": [
    "rock_properties = {\"Well_name\":[\"Well_A\",\"Well_B\",\"Well_C\"], \"Porosity\":[0.2,0.3,0.4],\"Lithology\":[\"Sha;e\",\"SST\",\"LST\"]}"
   ]
  },
  {
   "cell_type": "code",
   "execution_count": 86,
   "id": "83897831-9129-41f1-93fd-3d3ecb3c1cd9",
   "metadata": {},
   "outputs": [
    {
     "data": {
      "text/plain": [
       "{'Well_name': ['Well_A', 'Well_B', 'Well_C'],\n",
       " 'Porosity': [0.2, 0.3, 0.4],\n",
       " 'Lithology': ['Sha;e', 'SST', 'LST']}"
      ]
     },
     "execution_count": 86,
     "metadata": {},
     "output_type": "execute_result"
    }
   ],
   "source": [
    "rock_properties"
   ]
  },
  {
   "cell_type": "code",
   "execution_count": 96,
   "id": "a7e63c9a-b247-4540-8d94-ecfaa7373542",
   "metadata": {},
   "outputs": [],
   "source": [
    "rock_properties = {\"Well_A\":{\"porosity\":0.2,\"permeability\":35,\"Lithology\":\"Shale\"},\n",
    "                  \"Well_B\":{\"porosity\":0.4,\"permeability\":50,\"Lithology\":\"SST\"},\n",
    "\"Well_C\":{\"porosity\":0.2,\"permeability\":35,\"Lithology\":\"LST\"}\n",
    "                  }"
   ]
  },
  {
   "cell_type": "code",
   "execution_count": 5,
   "id": "59f01be5-b157-4485-b167-01df43b90b78",
   "metadata": {},
   "outputs": [
    {
     "data": {
      "text/plain": [
       "{'Well_A': {'porosity': 0.2, 'permeability': 35, 'Lithology': 'Shale'},\n",
       " 'Well_B': {'porosity': 0.4, 'permeability': 50, 'Lithology': 'SST'},\n",
       " 'Well_C': {'porosity': 0.2, 'permeability': 35, 'Lithology': 'LST'}}"
      ]
     },
     "execution_count": 5,
     "metadata": {},
     "output_type": "execute_result"
    }
   ],
   "source": [
    "rock_properties"
   ]
  },
  {
   "cell_type": "code",
   "execution_count": null,
   "id": "2e71f404-fc0c-4e65-9106-c24876d949b1",
   "metadata": {},
   "outputs": [],
   "source": []
  }
 ],
 "metadata": {
  "kernelspec": {
   "display_name": "Python 3 (ipykernel)",
   "language": "python",
   "name": "python3"
  },
  "language_info": {
   "codemirror_mode": {
    "name": "ipython",
    "version": 3
   },
   "file_extension": ".py",
   "mimetype": "text/x-python",
   "name": "python",
   "nbconvert_exporter": "python",
   "pygments_lexer": "ipython3",
   "version": "3.12.4"
  }
 },
 "nbformat": 4,
 "nbformat_minor": 5
}
